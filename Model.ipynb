{
 "cells": [
  {
   "cell_type": "code",
   "execution_count": 1,
   "id": "51ba3952-7142-4d3e-b7b5-c3f096933582",
   "metadata": {},
   "outputs": [],
   "source": [
    "import torch\n",
    "import torch.nn as nn\n",
    "import torchvision\n",
    "import torchvision.transforms as transforms\n",
    "import matplotlib.pyplot as plt\n",
    "import numpy as np\n",
    "import pandas as pd\n",
    "import cv2 as cv\n",
    "from sklearn.model_selection import train_test_split"
   ]
  },
  {
   "cell_type": "code",
   "execution_count": 2,
   "id": "c5425164-4349-45f9-873c-a140b5da4f08",
   "metadata": {},
   "outputs": [],
   "source": [
    "images_csv = pd.read_csv('data.csv')"
   ]
  },
  {
   "cell_type": "code",
   "execution_count": 3,
   "id": "b18c97e1-d6c9-4691-9e17-f7fcabbfba8e",
   "metadata": {},
   "outputs": [
    {
     "data": {
      "text/html": [
       "<div>\n",
       "<style scoped>\n",
       "    .dataframe tbody tr th:only-of-type {\n",
       "        vertical-align: middle;\n",
       "    }\n",
       "\n",
       "    .dataframe tbody tr th {\n",
       "        vertical-align: top;\n",
       "    }\n",
       "\n",
       "    .dataframe thead th {\n",
       "        text-align: right;\n",
       "    }\n",
       "</style>\n",
       "<table border=\"1\" class=\"dataframe\">\n",
       "  <thead>\n",
       "    <tr style=\"text-align: right;\">\n",
       "      <th></th>\n",
       "      <th>path</th>\n",
       "      <th>label</th>\n",
       "    </tr>\n",
       "  </thead>\n",
       "  <tbody>\n",
       "    <tr>\n",
       "      <th>0</th>\n",
       "      <td>Surprise/1bd930d6a1c717c11be33db74823f661cb53f...</td>\n",
       "      <td>Surprise</td>\n",
       "    </tr>\n",
       "    <tr>\n",
       "      <th>1</th>\n",
       "      <td>Surprise/cropped_emotions.100096~12fffff.png</td>\n",
       "      <td>Surprise</td>\n",
       "    </tr>\n",
       "    <tr>\n",
       "      <th>2</th>\n",
       "      <td>Surprise/0df0e470e33093f5b72a8197fa209d684032c...</td>\n",
       "      <td>Surprise</td>\n",
       "    </tr>\n",
       "    <tr>\n",
       "      <th>3</th>\n",
       "      <td>Surprise/cropped_emotions.260779~12fffff.png</td>\n",
       "      <td>Surprise</td>\n",
       "    </tr>\n",
       "    <tr>\n",
       "      <th>4</th>\n",
       "      <td>Surprise/cropped_emotions.263616~12fffff.png</td>\n",
       "      <td>Surprise</td>\n",
       "    </tr>\n",
       "  </tbody>\n",
       "</table>\n",
       "</div>"
      ],
      "text/plain": [
       "                                                path     label\n",
       "0  Surprise/1bd930d6a1c717c11be33db74823f661cb53f...  Surprise\n",
       "1       Surprise/cropped_emotions.100096~12fffff.png  Surprise\n",
       "2  Surprise/0df0e470e33093f5b72a8197fa209d684032c...  Surprise\n",
       "3       Surprise/cropped_emotions.260779~12fffff.png  Surprise\n",
       "4       Surprise/cropped_emotions.263616~12fffff.png  Surprise"
      ]
     },
     "execution_count": 3,
     "metadata": {},
     "output_type": "execute_result"
    }
   ],
   "source": [
    "images_csv = images_csv[['path', 'label']]\n",
    "images_csv.head()"
   ]
  },
  {
   "cell_type": "code",
   "execution_count": 4,
   "id": "82229a43-916b-491c-b80a-e39bfd37c141",
   "metadata": {},
   "outputs": [
    {
     "name": "stdout",
     "output_type": "stream",
     "text": [
      "{'Surprise': 0, 'Sad': 1, 'Ahegao': 2, 'Happy': 3, 'Neutral': 4, 'Angry': 5}\n"
     ]
    }
   ],
   "source": [
    "emotions = images_csv['label'].unique()\n",
    "emotions_dic = {}\n",
    "for index, emotion in enumerate(emotions):\n",
    "    emotions_dic[emotion] = index\n",
    "\n",
    "print(emotions_dic)"
   ]
  },
  {
   "cell_type": "code",
   "execution_count": 5,
   "id": "3e239ded-49b1-48ff-bdd7-f17c529d3f89",
   "metadata": {},
   "outputs": [],
   "source": [
    "e_images = images_csv.replace(emotions_dic)"
   ]
  },
  {
   "cell_type": "code",
   "execution_count": 6,
   "id": "fb64b1ed-c200-4db7-879c-ac6884263bee",
   "metadata": {},
   "outputs": [],
   "source": [
    "Sizes = []\n",
    "for i in e_images['path']:\n",
    "    image = cv.imread(f'dataset/{i}')\n",
    "    height = image.shape[0]\n",
    "    width = image.shape[1]\n",
    "    Sizes.append(height*width)"
   ]
  },
  {
   "cell_type": "code",
   "execution_count": 7,
   "id": "3846df64-03cf-46e7-9be4-9b125d0e2b8b",
   "metadata": {},
   "outputs": [
    {
     "data": {
      "text/plain": [
       "(96, 19483396)"
      ]
     },
     "execution_count": 7,
     "metadata": {},
     "output_type": "execute_result"
    }
   ],
   "source": [
    "min(Sizes), max(Sizes)"
   ]
  },
  {
   "cell_type": "code",
   "execution_count": 8,
   "id": "80c29868-1787-4b94-bb09-cecb9151e87f",
   "metadata": {},
   "outputs": [],
   "source": [
    "e_images.insert(2, 'Sizes', Sizes)"
   ]
  },
  {
   "cell_type": "code",
   "execution_count": 9,
   "id": "bc8cf078-7b41-4c6f-bdac-a5fac5efd94e",
   "metadata": {},
   "outputs": [
    {
     "data": {
      "text/plain": [
       "count    1.545300e+04\n",
       "mean     3.031597e+05\n",
       "std      7.051823e+05\n",
       "min      9.600000e+01\n",
       "25%      4.840000e+04\n",
       "50%      1.004890e+05\n",
       "75%      2.672890e+05\n",
       "max      1.948340e+07\n",
       "Name: Sizes, dtype: float64"
      ]
     },
     "execution_count": 9,
     "metadata": {},
     "output_type": "execute_result"
    }
   ],
   "source": [
    "e_images['Sizes'].describe()"
   ]
  },
  {
   "cell_type": "code",
   "execution_count": 10,
   "id": "9ecef123-fd37-4324-b329-c89d411e7233",
   "metadata": {},
   "outputs": [
    {
     "data": {
      "text/plain": [
       "303159.73946806445"
      ]
     },
     "execution_count": 10,
     "metadata": {},
     "output_type": "execute_result"
    }
   ],
   "source": [
    "mean_size = e_images['Sizes'].describe().loc['mean']\n",
    "mean_size"
   ]
  },
  {
   "cell_type": "code",
   "execution_count": 11,
   "id": "d0951582-30a9-4b88-b461-929867fa9c82",
   "metadata": {},
   "outputs": [
    {
     "data": {
      "text/html": [
       "<div>\n",
       "<style scoped>\n",
       "    .dataframe tbody tr th:only-of-type {\n",
       "        vertical-align: middle;\n",
       "    }\n",
       "\n",
       "    .dataframe tbody tr th {\n",
       "        vertical-align: top;\n",
       "    }\n",
       "\n",
       "    .dataframe thead th {\n",
       "        text-align: right;\n",
       "    }\n",
       "</style>\n",
       "<table border=\"1\" class=\"dataframe\">\n",
       "  <thead>\n",
       "    <tr style=\"text-align: right;\">\n",
       "      <th></th>\n",
       "      <th>path</th>\n",
       "      <th>label</th>\n",
       "      <th>Sizes</th>\n",
       "    </tr>\n",
       "  </thead>\n",
       "  <tbody>\n",
       "    <tr>\n",
       "      <th>0</th>\n",
       "      <td>Surprise/1bd930d6a1c717c11be33db74823f661cb53f...</td>\n",
       "      <td>0</td>\n",
       "      <td>230400</td>\n",
       "    </tr>\n",
       "    <tr>\n",
       "      <th>4</th>\n",
       "      <td>Surprise/cropped_emotions.263616~12fffff.png</td>\n",
       "      <td>0</td>\n",
       "      <td>187833</td>\n",
       "    </tr>\n",
       "    <tr>\n",
       "      <th>7</th>\n",
       "      <td>Surprise/0a15c44d8be6cc71cd9d8ab595266e5147459...</td>\n",
       "      <td>0</td>\n",
       "      <td>459684</td>\n",
       "    </tr>\n",
       "    <tr>\n",
       "      <th>9</th>\n",
       "      <td>Surprise/cropped_emotions.263517~12fffff.png</td>\n",
       "      <td>0</td>\n",
       "      <td>166160</td>\n",
       "    </tr>\n",
       "    <tr>\n",
       "      <th>10</th>\n",
       "      <td>Surprise/cropped_emotions.265653~12fffff.png</td>\n",
       "      <td>0</td>\n",
       "      <td>128310</td>\n",
       "    </tr>\n",
       "    <tr>\n",
       "      <th>...</th>\n",
       "      <td>...</td>\n",
       "      <td>...</td>\n",
       "      <td>...</td>\n",
       "    </tr>\n",
       "    <tr>\n",
       "      <th>15439</th>\n",
       "      <td>Angry/cropped_emotions.571531~angry.png</td>\n",
       "      <td>5</td>\n",
       "      <td>412125</td>\n",
       "    </tr>\n",
       "    <tr>\n",
       "      <th>15440</th>\n",
       "      <td>Angry/cropped_emotions.157999~angry.png</td>\n",
       "      <td>5</td>\n",
       "      <td>106110</td>\n",
       "    </tr>\n",
       "    <tr>\n",
       "      <th>15441</th>\n",
       "      <td>Angry/cropped_emotions.231380~angry.png</td>\n",
       "      <td>5</td>\n",
       "      <td>194530</td>\n",
       "    </tr>\n",
       "    <tr>\n",
       "      <th>15442</th>\n",
       "      <td>Angry/cropped_emotions.232172~angry.png</td>\n",
       "      <td>5</td>\n",
       "      <td>350620</td>\n",
       "    </tr>\n",
       "    <tr>\n",
       "      <th>15452</th>\n",
       "      <td>Angry/7fdcf428267020e7b1b063745c0834ae6ccb9125...</td>\n",
       "      <td>5</td>\n",
       "      <td>132496</td>\n",
       "    </tr>\n",
       "  </tbody>\n",
       "</table>\n",
       "<p>7756 rows × 3 columns</p>\n",
       "</div>"
      ],
      "text/plain": [
       "                                                    path  label   Sizes\n",
       "0      Surprise/1bd930d6a1c717c11be33db74823f661cb53f...      0  230400\n",
       "4           Surprise/cropped_emotions.263616~12fffff.png      0  187833\n",
       "7      Surprise/0a15c44d8be6cc71cd9d8ab595266e5147459...      0  459684\n",
       "9           Surprise/cropped_emotions.263517~12fffff.png      0  166160\n",
       "10          Surprise/cropped_emotions.265653~12fffff.png      0  128310\n",
       "...                                                  ...    ...     ...\n",
       "15439            Angry/cropped_emotions.571531~angry.png      5  412125\n",
       "15440            Angry/cropped_emotions.157999~angry.png      5  106110\n",
       "15441            Angry/cropped_emotions.231380~angry.png      5  194530\n",
       "15442            Angry/cropped_emotions.232172~angry.png      5  350620\n",
       "15452  Angry/7fdcf428267020e7b1b063745c0834ae6ccb9125...      5  132496\n",
       "\n",
       "[7756 rows x 3 columns]"
      ]
     },
     "execution_count": 11,
     "metadata": {},
     "output_type": "execute_result"
    }
   ],
   "source": [
    "diffrence = 100000\n",
    "photo_filter = (e_images['Sizes'] >= diffrence)\n",
    "e_images_filtered = e_images.loc[photo_filter]\n",
    "e_images_filtered"
   ]
  },
  {
   "cell_type": "code",
   "execution_count": 12,
   "id": "401b5533-133e-48d8-be22-90847f680ee3",
   "metadata": {},
   "outputs": [
    {
     "data": {
      "image/png": "[encoded data removed]",
      "text/plain": [
       "<Figure size 640x480 with 1 Axes>"
      ]
     },
     "metadata": {},
     "output_type": "display_data"
    }
   ],
   "source": [
    "photos_by_emotions = e_images_filtered.groupby('label').count()\n",
    "plt.bar(photos_by_emotions.index, photos_by_emotions['path']);"
   ]
  },
  {
   "cell_type": "code",
   "execution_count": 13,
   "id": "15a05971-45af-4a15-a901-dc819e3d735a",
   "metadata": {},
   "outputs": [],
   "source": [
    "X = e_images_filtered['path']\n",
    "y = e_images_filtered['label']\n",
    "X_train, X_test, y_train, y_test = train_test_split(X, y, test_size=0.2, random_state=123, stratify=y)"
   ]
  },
  {
   "cell_type": "code",
   "execution_count": 44,
   "id": "da5914c3-fd82-46e2-a330-f139d2940f33",
   "metadata": {},
   "outputs": [],
   "source": [
    "Images = []\n",
    "for i in X_train:\n",
    "    image = cv.imread(f'dataset/{i}')\n",
    "    rgb_image = cv.cvtColor(image, cv.COLOR_BGR2RGB)\n",
    "    resize_image = cv.resize(rgb_image, (100, 100))\n",
    "    std_image = resize_image / 255\n",
    "    Images.append(std_image)"
   ]
  },
  {
   "cell_type": "code",
   "execution_count": 45,
   "id": "f0a40ade-57df-4b4e-ac7a-a9d4d4363d48",
   "metadata": {},
   "outputs": [
    {
     "data": {
      "image/png": "[encoded data removed]",
      "text/plain": [
       "<Figure size 640x480 with 1 Axes>"
      ]
     },
     "metadata": {},
     "output_type": "display_data"
    }
   ],
   "source": [
    "plt.imshow(Images[1001]);"
   ]
  },
  {
   "cell_type": "code",
   "execution_count": 15,
   "id": "0a869f48-245c-486d-8f1f-4b0a6d98310a",
   "metadata": {},
   "outputs": [],
   "source": [
    "#class CTDataset(Dataset):\n",
    "    #device = torch.device('cuda' if torch.cuda.is_available() else 'cpu')\n",
    "    #def __init__(self, X, y):\n",
    "        #self.x = \n",
    "        "
   ]
  }
 ],
 "metadata": {
  "kernelspec": {
   "display_name": "Python 3 (ipykernel)",
   "language": "python",
   "name": "python3"
  },
  "language_info": {
   "codemirror_mode": {
    "name": "ipython",
    "version": 3
   },
   "file_extension": ".py",
   "mimetype": "text/x-python",
   "name": "python",
   "nbconvert_exporter": "python",
   "pygments_lexer": "ipython3",
   "version": "3.10.14"
  }
 },
 "nbformat": 4,
 "nbformat_minor": 5
}
