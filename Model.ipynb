{
 "cells": [
  {
   "cell_type": "code",
   "execution_count": 1,
   "id": "51ba3952-7142-4d3e-b7b5-c3f096933582",
   "metadata": {},
   "outputs": [],
   "source": [
    "import torch\n",
    "import torch.nn as nn\n",
    "import torchvision\n",
    "import torchvision.transforms as transforms\n",
    "from torch.utils.data import Dataset, DataLoader\n",
    "import torch.optim as optim\n",
    "import matplotlib.pyplot as plt\n",
    "import numpy as np\n",
    "import pandas as pd\n",
    "import cv2 as cv\n",
    "from sklearn.model_selection import train_test_split"
   ]
  },
  {
   "cell_type": "code",
   "execution_count": 2,
   "id": "c5425164-4349-45f9-873c-a140b5da4f08",
   "metadata": {},
   "outputs": [],
   "source": [
    "images_csv = pd.read_csv('data.csv')"
   ]
  },
  {
   "cell_type": "code",
   "execution_count": 3,
   "id": "b18c97e1-d6c9-4691-9e17-f7fcabbfba8e",
   "metadata": {},
   "outputs": [
    {
     "data": {
      "text/html": [
       "<div>\n",
       "<style scoped>\n",
       "    .dataframe tbody tr th:only-of-type {\n",
       "        vertical-align: middle;\n",
       "    }\n",
       "\n",
       "    .dataframe tbody tr th {\n",
       "        vertical-align: top;\n",
       "    }\n",
       "\n",
       "    .dataframe thead th {\n",
       "        text-align: right;\n",
       "    }\n",
       "</style>\n",
       "<table border=\"1\" class=\"dataframe\">\n",
       "  <thead>\n",
       "    <tr style=\"text-align: right;\">\n",
       "      <th></th>\n",
       "      <th>path</th>\n",
       "      <th>label</th>\n",
       "    </tr>\n",
       "  </thead>\n",
       "  <tbody>\n",
       "    <tr>\n",
       "      <th>0</th>\n",
       "      <td>Surprise/1bd930d6a1c717c11be33db74823f661cb53f...</td>\n",
       "      <td>Surprise</td>\n",
       "    </tr>\n",
       "    <tr>\n",
       "      <th>1</th>\n",
       "      <td>Surprise/cropped_emotions.100096~12fffff.png</td>\n",
       "      <td>Surprise</td>\n",
       "    </tr>\n",
       "    <tr>\n",
       "      <th>2</th>\n",
       "      <td>Surprise/0df0e470e33093f5b72a8197fa209d684032c...</td>\n",
       "      <td>Surprise</td>\n",
       "    </tr>\n",
       "    <tr>\n",
       "      <th>3</th>\n",
       "      <td>Surprise/cropped_emotions.260779~12fffff.png</td>\n",
       "      <td>Surprise</td>\n",
       "    </tr>\n",
       "    <tr>\n",
       "      <th>4</th>\n",
       "      <td>Surprise/cropped_emotions.263616~12fffff.png</td>\n",
       "      <td>Surprise</td>\n",
       "    </tr>\n",
       "  </tbody>\n",
       "</table>\n",
       "</div>"
      ],
      "text/plain": [
       "                                                path     label\n",
       "0  Surprise/1bd930d6a1c717c11be33db74823f661cb53f...  Surprise\n",
       "1       Surprise/cropped_emotions.100096~12fffff.png  Surprise\n",
       "2  Surprise/0df0e470e33093f5b72a8197fa209d684032c...  Surprise\n",
       "3       Surprise/cropped_emotions.260779~12fffff.png  Surprise\n",
       "4       Surprise/cropped_emotions.263616~12fffff.png  Surprise"
      ]
     },
     "execution_count": 3,
     "metadata": {},
     "output_type": "execute_result"
    }
   ],
   "source": [
    "images_csv = images_csv[['path', 'label']]\n",
    "images_csv.head()"
   ]
  },
  {
   "cell_type": "code",
   "execution_count": 4,
   "id": "82229a43-916b-491c-b80a-e39bfd37c141",
   "metadata": {},
   "outputs": [
    {
     "name": "stdout",
     "output_type": "stream",
     "text": [
      "{'Surprise': 0, 'Sad': 1, 'Ahegao': 2, 'Happy': 3, 'Neutral': 4, 'Angry': 5}\n"
     ]
    }
   ],
   "source": [
    "emotions = images_csv['label'].unique()\n",
    "emotions_dic = {}\n",
    "for index, emotion in enumerate(emotions):\n",
    "    emotions_dic[emotion] = index\n",
    "\n",
    "print(emotions_dic)"
   ]
  },
  {
   "cell_type": "code",
   "execution_count": 5,
   "id": "3e239ded-49b1-48ff-bdd7-f17c529d3f89",
   "metadata": {},
   "outputs": [],
   "source": [
    "e_images = images_csv.replace(emotions_dic)"
   ]
  },
  {
   "cell_type": "code",
   "execution_count": 6,
   "id": "fb64b1ed-c200-4db7-879c-ac6884263bee",
   "metadata": {},
   "outputs": [],
   "source": [
    "Sizes = []\n",
    "for i in e_images['path']:\n",
    "    image = cv.imread(f'dataset/{i}')\n",
    "    height = image.shape[0]\n",
    "    width = image.shape[1]\n",
    "    Sizes.append(height*width)"
   ]
  },
  {
   "cell_type": "code",
   "execution_count": 7,
   "id": "3846df64-03cf-46e7-9be4-9b125d0e2b8b",
   "metadata": {},
   "outputs": [
    {
     "data": {
      "text/plain": [
       "(96, 19483396)"
      ]
     },
     "execution_count": 7,
     "metadata": {},
     "output_type": "execute_result"
    }
   ],
   "source": [
    "min(Sizes), max(Sizes)"
   ]
  },
  {
   "cell_type": "code",
   "execution_count": 8,
   "id": "80c29868-1787-4b94-bb09-cecb9151e87f",
   "metadata": {},
   "outputs": [],
   "source": [
    "e_images.insert(2, 'Sizes', Sizes)"
   ]
  },
  {
   "cell_type": "code",
   "execution_count": 9,
   "id": "bc8cf078-7b41-4c6f-bdac-a5fac5efd94e",
   "metadata": {},
   "outputs": [
    {
     "data": {
      "text/plain": [
       "count    1.545300e+04\n",
       "mean     3.031597e+05\n",
       "std      7.051823e+05\n",
       "min      9.600000e+01\n",
       "25%      4.840000e+04\n",
       "50%      1.004890e+05\n",
       "75%      2.672890e+05\n",
       "max      1.948340e+07\n",
       "Name: Sizes, dtype: float64"
      ]
     },
     "execution_count": 9,
     "metadata": {},
     "output_type": "execute_result"
    }
   ],
   "source": [
    "e_images['Sizes'].describe()"
   ]
  },
  {
   "cell_type": "code",
   "execution_count": 10,
   "id": "9ecef123-fd37-4324-b329-c89d411e7233",
   "metadata": {},
   "outputs": [
    {
     "data": {
      "text/plain": [
       "303159.73946806445"
      ]
     },
     "execution_count": 10,
     "metadata": {},
     "output_type": "execute_result"
    }
   ],
   "source": [
    "mean_size = e_images['Sizes'].describe().loc['mean']\n",
    "mean_size"
   ]
  },
  {
   "cell_type": "code",
   "execution_count": 11,
   "id": "d0951582-30a9-4b88-b461-929867fa9c82",
   "metadata": {},
   "outputs": [
    {
     "data": {
      "text/html": [
       "<div>\n",
       "<style scoped>\n",
       "    .dataframe tbody tr th:only-of-type {\n",
       "        vertical-align: middle;\n",
       "    }\n",
       "\n",
       "    .dataframe tbody tr th {\n",
       "        vertical-align: top;\n",
       "    }\n",
       "\n",
       "    .dataframe thead th {\n",
       "        text-align: right;\n",
       "    }\n",
       "</style>\n",
       "<table border=\"1\" class=\"dataframe\">\n",
       "  <thead>\n",
       "    <tr style=\"text-align: right;\">\n",
       "      <th></th>\n",
       "      <th>path</th>\n",
       "      <th>label</th>\n",
       "      <th>Sizes</th>\n",
       "    </tr>\n",
       "  </thead>\n",
       "  <tbody>\n",
       "    <tr>\n",
       "      <th>0</th>\n",
       "      <td>Surprise/1bd930d6a1c717c11be33db74823f661cb53f...</td>\n",
       "      <td>0</td>\n",
       "      <td>230400</td>\n",
       "    </tr>\n",
       "    <tr>\n",
       "      <th>4</th>\n",
       "      <td>Surprise/cropped_emotions.263616~12fffff.png</td>\n",
       "      <td>0</td>\n",
       "      <td>187833</td>\n",
       "    </tr>\n",
       "    <tr>\n",
       "      <th>7</th>\n",
       "      <td>Surprise/0a15c44d8be6cc71cd9d8ab595266e5147459...</td>\n",
       "      <td>0</td>\n",
       "      <td>459684</td>\n",
       "    </tr>\n",
       "    <tr>\n",
       "      <th>9</th>\n",
       "      <td>Surprise/cropped_emotions.263517~12fffff.png</td>\n",
       "      <td>0</td>\n",
       "      <td>166160</td>\n",
       "    </tr>\n",
       "    <tr>\n",
       "      <th>10</th>\n",
       "      <td>Surprise/cropped_emotions.265653~12fffff.png</td>\n",
       "      <td>0</td>\n",
       "      <td>128310</td>\n",
       "    </tr>\n",
       "    <tr>\n",
       "      <th>...</th>\n",
       "      <td>...</td>\n",
       "      <td>...</td>\n",
       "      <td>...</td>\n",
       "    </tr>\n",
       "    <tr>\n",
       "      <th>15439</th>\n",
       "      <td>Angry/cropped_emotions.571531~angry.png</td>\n",
       "      <td>5</td>\n",
       "      <td>412125</td>\n",
       "    </tr>\n",
       "    <tr>\n",
       "      <th>15440</th>\n",
       "      <td>Angry/cropped_emotions.157999~angry.png</td>\n",
       "      <td>5</td>\n",
       "      <td>106110</td>\n",
       "    </tr>\n",
       "    <tr>\n",
       "      <th>15441</th>\n",
       "      <td>Angry/cropped_emotions.231380~angry.png</td>\n",
       "      <td>5</td>\n",
       "      <td>194530</td>\n",
       "    </tr>\n",
       "    <tr>\n",
       "      <th>15442</th>\n",
       "      <td>Angry/cropped_emotions.232172~angry.png</td>\n",
       "      <td>5</td>\n",
       "      <td>350620</td>\n",
       "    </tr>\n",
       "    <tr>\n",
       "      <th>15452</th>\n",
       "      <td>Angry/7fdcf428267020e7b1b063745c0834ae6ccb9125...</td>\n",
       "      <td>5</td>\n",
       "      <td>132496</td>\n",
       "    </tr>\n",
       "  </tbody>\n",
       "</table>\n",
       "<p>7756 rows × 3 columns</p>\n",
       "</div>"
      ],
      "text/plain": [
       "                                                    path  label   Sizes\n",
       "0      Surprise/1bd930d6a1c717c11be33db74823f661cb53f...      0  230400\n",
       "4           Surprise/cropped_emotions.263616~12fffff.png      0  187833\n",
       "7      Surprise/0a15c44d8be6cc71cd9d8ab595266e5147459...      0  459684\n",
       "9           Surprise/cropped_emotions.263517~12fffff.png      0  166160\n",
       "10          Surprise/cropped_emotions.265653~12fffff.png      0  128310\n",
       "...                                                  ...    ...     ...\n",
       "15439            Angry/cropped_emotions.571531~angry.png      5  412125\n",
       "15440            Angry/cropped_emotions.157999~angry.png      5  106110\n",
       "15441            Angry/cropped_emotions.231380~angry.png      5  194530\n",
       "15442            Angry/cropped_emotions.232172~angry.png      5  350620\n",
       "15452  Angry/7fdcf428267020e7b1b063745c0834ae6ccb9125...      5  132496\n",
       "\n",
       "[7756 rows x 3 columns]"
      ]
     },
     "execution_count": 11,
     "metadata": {},
     "output_type": "execute_result"
    }
   ],
   "source": [
    "diffrence = 100000\n",
    "photo_filter = (e_images['Sizes'] >= diffrence)\n",
    "e_images_filtered = e_images.loc[photo_filter]\n",
    "e_images_filtered"
   ]
  },
  {
   "cell_type": "code",
   "execution_count": 12,
   "id": "401b5533-133e-48d8-be22-90847f680ee3",
   "metadata": {},
   "outputs": [
    {
     "data": {
      "image/png": "[encoded data removed]",
      "text/plain": [
       "<Figure size 640x480 with 1 Axes>"
      ]
     },
     "metadata": {},
     "output_type": "display_data"
    }
   ],
   "source": [
    "photos_by_emotions = e_images_filtered.groupby('label').count()\n",
    "plt.bar(photos_by_emotions.index, photos_by_emotions['path']);"
   ]
  },
  {
   "cell_type": "code",
   "execution_count": 13,
   "id": "15a05971-45af-4a15-a901-dc819e3d735a",
   "metadata": {},
   "outputs": [],
   "source": [
    "X = e_images_filtered['path']\n",
    "y = e_images_filtered['label']\n",
    "X_train, X_test, y_train, y_test = train_test_split(X, y, test_size=0.2, random_state=123, stratify=y)"
   ]
  },
  {
   "cell_type": "code",
   "execution_count": 14,
   "id": "0a869f48-245c-486d-8f1f-4b0a6d98310a",
   "metadata": {},
   "outputs": [],
   "source": [
    "class CTDataset(Dataset):\n",
    "    def __init__(self, X, y):\n",
    "        device = torch.device('cuda' if torch.cuda.is_available() else 'cpu')\n",
    "        X_images = []\n",
    "        for i in X:\n",
    "            image = cv.imread(f'dataset/{i}')\n",
    "            rgb_image = cv.cvtColor(image, cv.COLOR_BGR2RGB)\n",
    "            resize_image = cv.resize(rgb_image, (100, 100))\n",
    "            std_image = resize_image / 255\n",
    "            X_images.append(std_image)\n",
    "\n",
    "        X_images_np = np.array(X_images)\n",
    "        X_images_np = np.moveaxis(X_images_np, 3, 1).astype(dtype='float32')\n",
    "\n",
    "        self.x = torch.from_numpy(X_images_np).to(device)\n",
    "        y_np = y.to_numpy().astype(dtype='long')\n",
    "        self.y = torch.from_numpy(y_np).to(device)\n",
    "\n",
    "    def __len__(self):\n",
    "        return len(self.y)\n",
    "\n",
    "    def __getitem__(self, ix):\n",
    "        return self.x[ix], self.y[ix]     "
   ]
  },
  {
   "cell_type": "code",
   "execution_count": 15,
   "id": "5bdbbeaf-1f85-418d-8de8-72ec7acf054e",
   "metadata": {},
   "outputs": [],
   "source": [
    "class CNN_model(nn.Module):\n",
    "    def __init__(self):\n",
    "        super().__init__()\n",
    "        device = torch.device('cuda' if torch.cuda.is_available() else 'cpu')\n",
    "        # First layer\n",
    "        self.conv1 = nn.Conv2d(3, 10, (10, 10)).to(device)\n",
    "        self.relu1 = nn.ReLU()\n",
    "        self.maxpool1 = nn.MaxPool2d(2, 2)\n",
    "        # Second layer\n",
    "        self.conv2 = nn.Conv2d(10, 20, (10, 10)).to(device)\n",
    "        self.relu2 = nn.ReLU()\n",
    "        self.maxpool2 = nn.MaxPool2d(2, 2)\n",
    "        # Third layer\n",
    "        self.conv3 = nn.Conv2d(20, 50, (10, 10)).to(device)\n",
    "        self.relu3 = nn.ReLU()\n",
    "        self.maxpool3 = nn.MaxPool2d(2, 2)\n",
    "        # To linear layer\n",
    "        self.flatten = nn.Flatten()\n",
    "        self.linear1 = nn.Linear(800, 500).to(device)\n",
    "        self.relu4 = nn.ReLU()\n",
    "        # Final layer\n",
    "        self.linear2 = nn.Linear(500, 6).to(device)\n",
    "        self.logsoftmax = nn.LogSoftmax(dim=1)\n",
    "\n",
    "    def forward(self, x):\n",
    "        x = self.conv1(x)\n",
    "        x = self.relu1(x)\n",
    "        x = self.maxpool1(x)\n",
    "        \n",
    "        x = self.conv2(x)\n",
    "        x = self.relu2(x)\n",
    "        x = self.maxpool2(x)\n",
    "\n",
    "        x = self.conv3(x)\n",
    "        x = self.relu3(x)\n",
    "        x = self.maxpool3(x)\n",
    "        \n",
    "        x = self.flatten(x)\n",
    "        x = self.linear1(x)\n",
    "        x = self.relu4(x)\n",
    "\n",
    "        x = self.linear2(x)\n",
    "        x = self.logsoftmax(x)\n",
    "\n",
    "        return x"
   ]
  },
  {
   "cell_type": "code",
   "execution_count": 16,
   "id": "02dfe64a-0725-4273-93b0-5cae2978286f",
   "metadata": {},
   "outputs": [],
   "source": [
    "train_data = CTDataset(X_train, y_train)"
   ]
  },
  {
   "cell_type": "code",
   "execution_count": 17,
   "id": "60ce3e09-7c6f-45b4-af2e-c7df9c5551dc",
   "metadata": {},
   "outputs": [],
   "source": [
    "train_data_loader = DataLoader(train_data, batch_size=10, shuffle=True)"
   ]
  },
  {
   "cell_type": "code",
   "execution_count": 18,
   "id": "e7a85c42-5d34-46db-b5ca-bc145c80a3d9",
   "metadata": {},
   "outputs": [],
   "source": [
    "def train_model(data, model, n_epoches = 50, learning_r=0.001):\n",
    "    device = torch.device('cuda' if torch.cuda.is_available() else 'cpu')\n",
    "    model.train()\n",
    "    opt = optim.Adam(model.parameters(), lr=learning_r)\n",
    "    loss_fn = nn.NLLLoss().to(device)\n",
    "\n",
    "    losses = []\n",
    "    epoches = []\n",
    "\n",
    "    print(f'Epoch: 0/{n_epoches}')\n",
    "    for epoch in range(n_epoches):\n",
    "        N = len(data)\n",
    "        for i, (x, y) in enumerate(data):\n",
    "            opt.zero_grad()\n",
    "            losse_value = loss_fn(model(x), y)\n",
    "            losse_value.backward()\n",
    "            opt.step()\n",
    "\n",
    "            epoches.append(epoch+i/N)\n",
    "            losses.append(losse_value.item())\n",
    "\n",
    "        if (epoch+1)%10 == 0 :\n",
    "            print(f'Epoch: {epoch+1}/{n_epoches}')\n",
    "    \n",
    "    return np.array(epoches), np.array(losses)"
   ]
  },
  {
   "cell_type": "code",
   "execution_count": 19,
   "id": "2c2fa764-8e3e-412e-8cdd-27817bb60253",
   "metadata": {},
   "outputs": [
    {
     "name": "stdout",
     "output_type": "stream",
     "text": [
      "Epoch: 0/80\n"
     ]
    },
    {
     "name": "stderr",
     "output_type": "stream",
     "text": [
      "/home/adam/anaconda3/envs/pytorch/lib/python3.10/site-packages/torch/nn/modules/conv.py:456: UserWarning: Applied workaround for CuDNN issue, install nvrtc.so (Triggered internally at /opt/conda/conda-bld/pytorch_1711403388920/work/aten/src/ATen/native/cudnn/Conv_v8.cpp:80.)\n",
      "  return F.conv2d(input, weight, bias, self.stride,\n"
     ]
    },
    {
     "name": "stdout",
     "output_type": "stream",
     "text": [
      "Epoch: 10/80\n",
      "Epoch: 20/80\n",
      "Epoch: 30/80\n",
      "Epoch: 40/80\n",
      "Epoch: 50/80\n",
      "Epoch: 60/80\n",
      "Epoch: 70/80\n",
      "Epoch: 80/80\n"
     ]
    }
   ],
   "source": [
    "epoch_n = 80\n",
    "learning_rate = 0.001\n",
    "f = CNN_model()\n",
    "epoches, losses = train_model(train_data_loader, f, n_epoches=epoch_n, learning_r=learning_rate)"
   ]
  },
  {
   "cell_type": "code",
   "execution_count": 20,
   "id": "76184b21-a298-4dab-b763-f4065be8e7cd",
   "metadata": {},
   "outputs": [],
   "source": [
    "# Export to model.pt\n",
    "torch.save(f, 'model.pt')"
   ]
  },
  {
   "cell_type": "code",
   "execution_count": 21,
   "id": "7070f8f7-f0ce-41a4-8f25-5f40d0c2b603",
   "metadata": {},
   "outputs": [
    {
     "data": {
      "image/png": "[encoded data removed]",
      "text/plain": [
       "<Figure size 640x480 with 1 Axes>"
      ]
     },
     "metadata": {},
     "output_type": "display_data"
    }
   ],
   "source": [
    "# You can see there whole learning process\n",
    "plt.plot(epoches, losses)\n",
    "plt.xlabel('epoches')\n",
    "plt.ylabel('Loss function')\n",
    "plt.title('Learning')\n",
    "plt.show()"
   ]
  },
  {
   "cell_type": "code",
   "execution_count": 22,
   "id": "40173f7d-4ac8-48e5-98a9-0732172f976e",
   "metadata": {},
   "outputs": [
    {
     "data": {
      "image/png": "[encoded data removed]",
      "text/plain": [
       "<Figure size 640x480 with 1 Axes>"
      ]
     },
     "metadata": {},
     "output_type": "display_data"
    }
   ],
   "source": [
    "# More readable form but it shows less information what happens here\n",
    "epoches_avg = epoches.reshape(epoch_n, -1).mean(axis=1)\n",
    "losses_avg = losses.reshape(epoch_n, -1).mean(axis=1)\n",
    "plt.plot(epoches_avg, losses_avg)\n",
    "plt.xlabel('epoches')\n",
    "plt.ylabel('Loss function')\n",
    "plt.title('Learning')\n",
    "plt.show()"
   ]
  },
  {
   "cell_type": "code",
   "execution_count": 23,
   "id": "2ce2d8c3-99fc-435b-bc9e-742615901a4b",
   "metadata": {},
   "outputs": [],
   "source": [
    "# Import model.pt\n",
    "# f = torch.load('model.pt')"
   ]
  },
  {
   "cell_type": "code",
   "execution_count": 24,
   "id": "91fd3586-cb13-4d5d-8d98-c332d77b9fd5",
   "metadata": {},
   "outputs": [
    {
     "data": {
      "text/plain": [
       "CNN_model(\n",
       "  (conv1): Conv2d(3, 10, kernel_size=(10, 10), stride=(1, 1))\n",
       "  (relu1): ReLU()\n",
       "  (maxpool1): MaxPool2d(kernel_size=2, stride=2, padding=0, dilation=1, ceil_mode=False)\n",
       "  (conv2): Conv2d(10, 20, kernel_size=(10, 10), stride=(1, 1))\n",
       "  (relu2): ReLU()\n",
       "  (maxpool2): MaxPool2d(kernel_size=2, stride=2, padding=0, dilation=1, ceil_mode=False)\n",
       "  (conv3): Conv2d(20, 50, kernel_size=(10, 10), stride=(1, 1))\n",
       "  (relu3): ReLU()\n",
       "  (maxpool3): MaxPool2d(kernel_size=2, stride=2, padding=0, dilation=1, ceil_mode=False)\n",
       "  (flatten): Flatten(start_dim=1, end_dim=-1)\n",
       "  (linear1): Linear(in_features=800, out_features=500, bias=True)\n",
       "  (relu4): ReLU()\n",
       "  (linear2): Linear(in_features=500, out_features=6, bias=True)\n",
       "  (logsoftmax): LogSoftmax(dim=1)\n",
       ")"
      ]
     },
     "execution_count": 24,
     "metadata": {},
     "output_type": "execute_result"
    }
   ],
   "source": [
    "# It changes model to evaluate mode (that means you can use it)\n",
    "f.eval()"
   ]
  },
  {
   "cell_type": "code",
   "execution_count": 25,
   "id": "56cafdb6-861c-47bd-87fd-963d09ccff59",
   "metadata": {},
   "outputs": [
    {
     "name": "stdout",
     "output_type": "stream",
     "text": [
      "torch.Size([10])\n"
     ]
    }
   ],
   "source": [
    "for i in train_data_loader:\n",
    "    print(i[1].shape)\n",
    "    break"
   ]
  },
  {
   "cell_type": "code",
   "execution_count": null,
   "id": "0765c5e6-dee0-49d7-ae35-74e67b389603",
   "metadata": {},
   "outputs": [],
   "source": []
  }
 ],
 "metadata": {
  "kernelspec": {
   "display_name": "Python 3 (ipykernel)",
   "language": "python",
   "name": "python3"
  },
  "language_info": {
   "codemirror_mode": {
    "name": "ipython",
    "version": 3
   },
   "file_extension": ".py",
   "mimetype": "text/x-python",
   "name": "python",
   "nbconvert_exporter": "python",
   "pygments_lexer": "ipython3",
   "version": "3.10.14"
  }
 },
 "nbformat": 4,
 "nbformat_minor": 5
}
