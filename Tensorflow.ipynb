{
 "cells": [
  {
   "cell_type": "code",
   "execution_count": 1,
   "id": "e548abf7-7119-4e57-b172-e94688641c00",
   "metadata": {},
   "outputs": [
    {
     "name": "stderr",
     "output_type": "stream",
     "text": [
      "2024-11-24 19:13:17.058390: E external/local_xla/xla/stream_executor/cuda/cuda_fft.cc:477] Unable to register cuFFT factory: Attempting to register factory for plugin cuFFT when one has already been registered\n",
      "WARNING: All log messages before absl::InitializeLog() is called are written to STDERR\n",
      "E0000 00:00:1732471997.142852    1876 cuda_dnn.cc:8310] Unable to register cuDNN factory: Attempting to register factory for plugin cuDNN when one has already been registered\n",
      "E0000 00:00:1732471997.166078    1876 cuda_blas.cc:1418] Unable to register cuBLAS factory: Attempting to register factory for plugin cuBLAS when one has already been registered\n",
      "2024-11-24 19:13:17.362925: I tensorflow/core/platform/cpu_feature_guard.cc:210] This TensorFlow binary is optimized to use available CPU instructions in performance-critical operations.\n",
      "To enable the following instructions: AVX2 FMA, in other operations, rebuild TensorFlow with the appropriate compiler flags.\n"
     ]
    }
   ],
   "source": [
    "import tensorflow as tf\n",
    "import numpy as np\n",
    "import pandas as pd\n",
    "import cv2 as cv\n",
    "from sklearn.model_selection import train_test_split\n",
    "import matplotlib.pyplot as plt"
   ]
  },
  {
   "cell_type": "code",
   "execution_count": 2,
   "id": "cb0a192b-6f5a-4018-92b8-77beaa57d8aa",
   "metadata": {},
   "outputs": [],
   "source": [
    "images_csv = pd.read_csv('data.csv')"
   ]
  },
  {
   "cell_type": "code",
   "execution_count": 3,
   "id": "38b0bb52-fd2c-417f-9d1d-ad2c5210066a",
   "metadata": {},
   "outputs": [
    {
     "data": {
      "text/html": [
       "<div>\n",
       "<style scoped>\n",
       "    .dataframe tbody tr th:only-of-type {\n",
       "        vertical-align: middle;\n",
       "    }\n",
       "\n",
       "    .dataframe tbody tr th {\n",
       "        vertical-align: top;\n",
       "    }\n",
       "\n",
       "    .dataframe thead th {\n",
       "        text-align: right;\n",
       "    }\n",
       "</style>\n",
       "<table border=\"1\" class=\"dataframe\">\n",
       "  <thead>\n",
       "    <tr style=\"text-align: right;\">\n",
       "      <th></th>\n",
       "      <th>path</th>\n",
       "      <th>label</th>\n",
       "    </tr>\n",
       "  </thead>\n",
       "  <tbody>\n",
       "    <tr>\n",
       "      <th>0</th>\n",
       "      <td>Surprise/1bd930d6a1c717c11be33db74823f661cb53f...</td>\n",
       "      <td>Surprise</td>\n",
       "    </tr>\n",
       "    <tr>\n",
       "      <th>1</th>\n",
       "      <td>Surprise/cropped_emotions.100096~12fffff.png</td>\n",
       "      <td>Surprise</td>\n",
       "    </tr>\n",
       "    <tr>\n",
       "      <th>2</th>\n",
       "      <td>Surprise/0df0e470e33093f5b72a8197fa209d684032c...</td>\n",
       "      <td>Surprise</td>\n",
       "    </tr>\n",
       "    <tr>\n",
       "      <th>3</th>\n",
       "      <td>Surprise/cropped_emotions.260779~12fffff.png</td>\n",
       "      <td>Surprise</td>\n",
       "    </tr>\n",
       "    <tr>\n",
       "      <th>4</th>\n",
       "      <td>Surprise/cropped_emotions.263616~12fffff.png</td>\n",
       "      <td>Surprise</td>\n",
       "    </tr>\n",
       "  </tbody>\n",
       "</table>\n",
       "</div>"
      ],
      "text/plain": [
       "                                                path     label\n",
       "0  Surprise/1bd930d6a1c717c11be33db74823f661cb53f...  Surprise\n",
       "1       Surprise/cropped_emotions.100096~12fffff.png  Surprise\n",
       "2  Surprise/0df0e470e33093f5b72a8197fa209d684032c...  Surprise\n",
       "3       Surprise/cropped_emotions.260779~12fffff.png  Surprise\n",
       "4       Surprise/cropped_emotions.263616~12fffff.png  Surprise"
      ]
     },
     "execution_count": 3,
     "metadata": {},
     "output_type": "execute_result"
    }
   ],
   "source": [
    "images_csv = images_csv[['path', 'label']]\n",
    "images_csv.head()"
   ]
  },
  {
   "cell_type": "code",
   "execution_count": 4,
   "id": "b31bad53-d3d9-4084-9984-9069e65f3b9b",
   "metadata": {},
   "outputs": [],
   "source": [
    "to_drop = images_csv[images_csv[\"label\"] == \"Ahegao\"].index\n",
    "images_csv = images_csv.drop(to_drop)"
   ]
  },
  {
   "cell_type": "code",
   "execution_count": 5,
   "id": "d80fdc5f-c234-4051-9df1-bdbd11a841ce",
   "metadata": {},
   "outputs": [
    {
     "name": "stdout",
     "output_type": "stream",
     "text": [
      "{'Surprise': 0, 'Sad': 1, 'Happy': 2, 'Neutral': 3, 'Angry': 4}\n"
     ]
    }
   ],
   "source": [
    "emotions = images_csv['label'].unique()\n",
    "emotions_dic = {}\n",
    "for index, emotion in enumerate(emotions):\n",
    "    emotions_dic[emotion] = index\n",
    "\n",
    "print(emotions_dic)"
   ]
  },
  {
   "cell_type": "code",
   "execution_count": 6,
   "id": "72911d97-be6d-4cc5-be0f-c911959489cb",
   "metadata": {},
   "outputs": [
    {
     "name": "stderr",
     "output_type": "stream",
     "text": [
      "/tmp/ipykernel_1876/2357465474.py:1: FutureWarning: Downcasting behavior in `replace` is deprecated and will be removed in a future version. To retain the old behavior, explicitly call `result.infer_objects(copy=False)`. To opt-in to the future behavior, set `pd.set_option('future.no_silent_downcasting', True)`\n",
      "  e_images = images_csv.replace(emotions_dic)\n"
     ]
    }
   ],
   "source": [
    "e_images = images_csv.replace(emotions_dic)"
   ]
  },
  {
   "cell_type": "code",
   "execution_count": 7,
   "id": "d46eb352-393e-49e1-b79c-66749fe7999f",
   "metadata": {},
   "outputs": [],
   "source": [
    "Sizes = []\n",
    "for i in e_images['path']:\n",
    "    image = cv.imread(f'dataset/{i}')\n",
    "    height = image.shape[0]\n",
    "    width = image.shape[1]\n",
    "    Sizes.append(height*width)"
   ]
  },
  {
   "cell_type": "code",
   "execution_count": 8,
   "id": "402ce289-ac97-467c-bb17-74494307b5ff",
   "metadata": {},
   "outputs": [],
   "source": [
    "e_images.insert(2, 'Sizes', Sizes)"
   ]
  },
  {
   "cell_type": "code",
   "execution_count": 9,
   "id": "a32abae6-f1ad-4a99-a96a-546f1cafe136",
   "metadata": {},
   "outputs": [
    {
     "data": {
      "text/html": [
       "<div>\n",
       "<style scoped>\n",
       "    .dataframe tbody tr th:only-of-type {\n",
       "        vertical-align: middle;\n",
       "    }\n",
       "\n",
       "    .dataframe tbody tr th {\n",
       "        vertical-align: top;\n",
       "    }\n",
       "\n",
       "    .dataframe thead th {\n",
       "        text-align: right;\n",
       "    }\n",
       "</style>\n",
       "<table border=\"1\" class=\"dataframe\">\n",
       "  <thead>\n",
       "    <tr style=\"text-align: right;\">\n",
       "      <th></th>\n",
       "      <th>path</th>\n",
       "      <th>label</th>\n",
       "      <th>Sizes</th>\n",
       "    </tr>\n",
       "  </thead>\n",
       "  <tbody>\n",
       "    <tr>\n",
       "      <th>0</th>\n",
       "      <td>Surprise/1bd930d6a1c717c11be33db74823f661cb53f...</td>\n",
       "      <td>0</td>\n",
       "      <td>230400</td>\n",
       "    </tr>\n",
       "    <tr>\n",
       "      <th>4</th>\n",
       "      <td>Surprise/cropped_emotions.263616~12fffff.png</td>\n",
       "      <td>0</td>\n",
       "      <td>187833</td>\n",
       "    </tr>\n",
       "    <tr>\n",
       "      <th>7</th>\n",
       "      <td>Surprise/0a15c44d8be6cc71cd9d8ab595266e5147459...</td>\n",
       "      <td>0</td>\n",
       "      <td>459684</td>\n",
       "    </tr>\n",
       "    <tr>\n",
       "      <th>9</th>\n",
       "      <td>Surprise/cropped_emotions.263517~12fffff.png</td>\n",
       "      <td>0</td>\n",
       "      <td>166160</td>\n",
       "    </tr>\n",
       "    <tr>\n",
       "      <th>10</th>\n",
       "      <td>Surprise/cropped_emotions.265653~12fffff.png</td>\n",
       "      <td>0</td>\n",
       "      <td>128310</td>\n",
       "    </tr>\n",
       "    <tr>\n",
       "      <th>...</th>\n",
       "      <td>...</td>\n",
       "      <td>...</td>\n",
       "      <td>...</td>\n",
       "    </tr>\n",
       "    <tr>\n",
       "      <th>15439</th>\n",
       "      <td>Angry/cropped_emotions.571531~angry.png</td>\n",
       "      <td>4</td>\n",
       "      <td>412125</td>\n",
       "    </tr>\n",
       "    <tr>\n",
       "      <th>15440</th>\n",
       "      <td>Angry/cropped_emotions.157999~angry.png</td>\n",
       "      <td>4</td>\n",
       "      <td>106110</td>\n",
       "    </tr>\n",
       "    <tr>\n",
       "      <th>15441</th>\n",
       "      <td>Angry/cropped_emotions.231380~angry.png</td>\n",
       "      <td>4</td>\n",
       "      <td>194530</td>\n",
       "    </tr>\n",
       "    <tr>\n",
       "      <th>15442</th>\n",
       "      <td>Angry/cropped_emotions.232172~angry.png</td>\n",
       "      <td>4</td>\n",
       "      <td>350620</td>\n",
       "    </tr>\n",
       "    <tr>\n",
       "      <th>15452</th>\n",
       "      <td>Angry/7fdcf428267020e7b1b063745c0834ae6ccb9125...</td>\n",
       "      <td>4</td>\n",
       "      <td>132496</td>\n",
       "    </tr>\n",
       "  </tbody>\n",
       "</table>\n",
       "<p>6975 rows × 3 columns</p>\n",
       "</div>"
      ],
      "text/plain": [
       "                                                    path  label   Sizes\n",
       "0      Surprise/1bd930d6a1c717c11be33db74823f661cb53f...      0  230400\n",
       "4           Surprise/cropped_emotions.263616~12fffff.png      0  187833\n",
       "7      Surprise/0a15c44d8be6cc71cd9d8ab595266e5147459...      0  459684\n",
       "9           Surprise/cropped_emotions.263517~12fffff.png      0  166160\n",
       "10          Surprise/cropped_emotions.265653~12fffff.png      0  128310\n",
       "...                                                  ...    ...     ...\n",
       "15439            Angry/cropped_emotions.571531~angry.png      4  412125\n",
       "15440            Angry/cropped_emotions.157999~angry.png      4  106110\n",
       "15441            Angry/cropped_emotions.231380~angry.png      4  194530\n",
       "15442            Angry/cropped_emotions.232172~angry.png      4  350620\n",
       "15452  Angry/7fdcf428267020e7b1b063745c0834ae6ccb9125...      4  132496\n",
       "\n",
       "[6975 rows x 3 columns]"
      ]
     },
     "execution_count": 9,
     "metadata": {},
     "output_type": "execute_result"
    }
   ],
   "source": [
    "diffrence = 100000\n",
    "photo_filter = (e_images['Sizes'] >= diffrence)\n",
    "e_images_filtered = e_images.loc[photo_filter]\n",
    "e_images_filtered"
   ]
  },
  {
   "cell_type": "code",
   "execution_count": 10,
   "id": "27e02291-764e-46e9-8643-5950a23fd7a7",
   "metadata": {},
   "outputs": [
    {
     "data": {
      "image/png": "[encoded data removed]",
      "text/plain": [
       "<Figure size 640x480 with 1 Axes>"
      ]
     },
     "metadata": {},
     "output_type": "display_data"
    }
   ],
   "source": [
    "photos_by_emotions = e_images_filtered.groupby('label').count()\n",
    "plt.bar(photos_by_emotions.index, photos_by_emotions['path']);"
   ]
  },
  {
   "cell_type": "code",
   "execution_count": 11,
   "id": "1fda01f5-a64d-45d3-bfc9-b38df43f5eb0",
   "metadata": {},
   "outputs": [],
   "source": [
    "X = e_images_filtered['path']\n",
    "y = e_images_filtered['label']"
   ]
  },
  {
   "cell_type": "code",
   "execution_count": 25,
   "id": "aa001282-39d3-451f-aeb6-a51ed6d40f3a",
   "metadata": {},
   "outputs": [],
   "source": [
    "X_images = []\n",
    "for i in X:\n",
    "    image = cv.imread(f'dataset/{i}')\n",
    "    rgb_image = cv.cvtColor(image, cv.COLOR_BGR2RGB)\n",
    "    resize_image = cv.resize(rgb_image, (100, 100))\n",
    "    std_image = resize_image / 255.0\n",
    "    X_images.append(std_image)\n",
    "\n",
    "X_images_np = np.array(X_images).astype(dtype='float32')\n",
    "y_np = y.to_numpy().astype(dtype='long')"
   ]
  },
  {
   "cell_type": "code",
   "execution_count": 26,
   "id": "0ac3c34d-5051-4b31-a82c-d22dd38e656c",
   "metadata": {},
   "outputs": [],
   "source": [
    "Images = []\n",
    "for image in range(5):\n",
    "    index = np.where(y_np == image)[0][0]\n",
    "    Images.append(X_images_np[index])"
   ]
  },
  {
   "cell_type": "code",
   "execution_count": 27,
   "id": "9abfbdaf-459a-4507-8e32-7ef968b5001b",
   "metadata": {},
   "outputs": [
    {
     "data": {
      "text/plain": [
       "(100, 100, 3)"
      ]
     },
     "execution_count": 27,
     "metadata": {},
     "output_type": "execute_result"
    }
   ],
   "source": [
    "Images[0].shape"
   ]
  },
  {
   "cell_type": "code",
   "execution_count": 28,
   "id": "11c7a0ca-e98a-41bd-8bf3-405a278d9937",
   "metadata": {},
   "outputs": [
    {
     "name": "stderr",
     "output_type": "stream",
     "text": [
      "/tmp/ipykernel_1876/4104482281.py:6: UserWarning: FigureCanvasAgg is non-interactive, and thus cannot be shown\n",
      "  fig.show()\n"
     ]
    },
    {
     "data": {
      "image/png": "[encoded data removed]",
      "text/plain": [
       "<Figure size 640x480 with 5 Axes>"
      ]
     },
     "metadata": {},
     "output_type": "display_data"
    }
   ],
   "source": [
    "fig, axs = plt.subplots(1,5)\n",
    "\n",
    "for index, ax in enumerate(axs.ravel()):\n",
    "    ax.imshow(Images[index])\n",
    "    \n",
    "fig.show()"
   ]
  },
  {
   "cell_type": "code",
   "execution_count": 29,
   "id": "e5428c92-96e1-4034-9de4-b015649ac4d7",
   "metadata": {},
   "outputs": [
    {
     "data": {
      "text/plain": [
       "(6975, 100, 100, 3)"
      ]
     },
     "execution_count": 29,
     "metadata": {},
     "output_type": "execute_result"
    }
   ],
   "source": [
    "X_images_np.shape"
   ]
  },
  {
   "cell_type": "code",
   "execution_count": 30,
   "id": "c6b480ce-ef5e-4a25-928e-4e2c7908c70a",
   "metadata": {},
   "outputs": [],
   "source": [
    "X_train, X_test, y_train, y_test = train_test_split(X_images_np, y_np, test_size=0.3, random_state=123, stratify=y)"
   ]
  },
  {
   "cell_type": "code",
   "execution_count": 31,
   "id": "aa661fe8-a9b0-41aa-835b-9ee1dade124f",
   "metadata": {},
   "outputs": [
    {
     "data": {
      "text/plain": [
       "(4882, 100, 100, 3)"
      ]
     },
     "execution_count": 31,
     "metadata": {},
     "output_type": "execute_result"
    }
   ],
   "source": [
    "X_train.shape"
   ]
  },
  {
   "cell_type": "code",
   "execution_count": 32,
   "id": "1a2b92df-d9d6-424f-9944-b204d24617f9",
   "metadata": {},
   "outputs": [
    {
     "data": {
      "text/plain": [
       "array([3, 1, 3, ..., 3, 3, 1])"
      ]
     },
     "execution_count": 32,
     "metadata": {},
     "output_type": "execute_result"
    }
   ],
   "source": [
    "y_train"
   ]
  },
  {
   "cell_type": "code",
   "execution_count": 33,
   "id": "5e753471-ffe6-473b-8c62-db2e98773ae6",
   "metadata": {},
   "outputs": [],
   "source": [
    "from tensorflow.keras import Sequential\n",
    "from tensorflow.keras.layers import Dense, Conv2D, MaxPooling2D, Flatten"
   ]
  },
  {
   "cell_type": "code",
   "execution_count": 34,
   "id": "5fe5e437-8f00-4794-a13c-81cd582cc2cc",
   "metadata": {},
   "outputs": [
    {
     "name": "stderr",
     "output_type": "stream",
     "text": [
      "/home/adam/anaconda3/envs/tensorflow/lib/python3.10/site-packages/keras/src/layers/convolutional/base_conv.py:107: UserWarning: Do not pass an `input_shape`/`input_dim` argument to a layer. When using Sequential models, prefer using an `Input(shape)` object as the first layer in the model instead.\n",
      "  super().__init__(activity_regularizer=activity_regularizer, **kwargs)\n"
     ]
    }
   ],
   "source": [
    "model = Sequential()\n",
    "model.add(Conv2D(10, (10, 10), activation = 'relu', input_shape=(100, 100, 3)))\n",
    "model.add(MaxPooling2D((2, 2)))\n",
    "model.add(Conv2D(20, (10, 10), activation = 'relu'))\n",
    "model.add(MaxPooling2D((2, 2)))\n",
    "model.add(Flatten())\n",
    "model.add(Dense(500, activation = 'relu'))\n",
    "model.add(Dense(5, activation = 'log_softmax'))"
   ]
  },
  {
   "cell_type": "code",
   "execution_count": 35,
   "id": "61d2e299-d30f-41d1-b673-1f3abaa1ab53",
   "metadata": {},
   "outputs": [
    {
     "data": {
      "text/html": [
       "<pre style=\"white-space:pre;overflow-x:auto;line-height:normal;font-family:Menlo,'DejaVu Sans Mono',consolas,'Courier New',monospace\"><span style=\"font-weight: bold\">Model: \"sequential_1\"</span>\n",
       "</pre>\n"
      ],
      "text/plain": [
       "\u001b[1mModel: \"sequential_1\"\u001b[0m\n"
      ]
     },
     "metadata": {},
     "output_type": "display_data"
    },
    {
     "data": {
      "text/html": [
       "<pre style=\"white-space:pre;overflow-x:auto;line-height:normal;font-family:Menlo,'DejaVu Sans Mono',consolas,'Courier New',monospace\">┏━━━━━━━━━━━━━━━━━━━━━━━━━━━━━━━━━┳━━━━━━━━━━━━━━━━━━━━━━━━┳━━━━━━━━━━━━━━━┓\n",
       "┃<span style=\"font-weight: bold\"> Layer (type)                    </span>┃<span style=\"font-weight: bold\"> Output Shape           </span>┃<span style=\"font-weight: bold\">       Param # </span>┃\n",
       "┡━━━━━━━━━━━━━━━━━━━━━━━━━━━━━━━━━╇━━━━━━━━━━━━━━━━━━━━━━━━╇━━━━━━━━━━━━━━━┩\n",
       "│ conv2d_2 (<span style=\"color: #0087ff; text-decoration-color: #0087ff\">Conv2D</span>)               │ (<span style=\"color: #00d7ff; text-decoration-color: #00d7ff\">None</span>, <span style=\"color: #00af00; text-decoration-color: #00af00\">91</span>, <span style=\"color: #00af00; text-decoration-color: #00af00\">91</span>, <span style=\"color: #00af00; text-decoration-color: #00af00\">10</span>)     │         <span style=\"color: #00af00; text-decoration-color: #00af00\">3,010</span> │\n",
       "├─────────────────────────────────┼────────────────────────┼───────────────┤\n",
       "│ max_pooling2d_2 (<span style=\"color: #0087ff; text-decoration-color: #0087ff\">MaxPooling2D</span>)  │ (<span style=\"color: #00d7ff; text-decoration-color: #00d7ff\">None</span>, <span style=\"color: #00af00; text-decoration-color: #00af00\">45</span>, <span style=\"color: #00af00; text-decoration-color: #00af00\">45</span>, <span style=\"color: #00af00; text-decoration-color: #00af00\">10</span>)     │             <span style=\"color: #00af00; text-decoration-color: #00af00\">0</span> │\n",
       "├─────────────────────────────────┼────────────────────────┼───────────────┤\n",
       "│ conv2d_3 (<span style=\"color: #0087ff; text-decoration-color: #0087ff\">Conv2D</span>)               │ (<span style=\"color: #00d7ff; text-decoration-color: #00d7ff\">None</span>, <span style=\"color: #00af00; text-decoration-color: #00af00\">36</span>, <span style=\"color: #00af00; text-decoration-color: #00af00\">36</span>, <span style=\"color: #00af00; text-decoration-color: #00af00\">20</span>)     │        <span style=\"color: #00af00; text-decoration-color: #00af00\">20,020</span> │\n",
       "├─────────────────────────────────┼────────────────────────┼───────────────┤\n",
       "│ max_pooling2d_3 (<span style=\"color: #0087ff; text-decoration-color: #0087ff\">MaxPooling2D</span>)  │ (<span style=\"color: #00d7ff; text-decoration-color: #00d7ff\">None</span>, <span style=\"color: #00af00; text-decoration-color: #00af00\">18</span>, <span style=\"color: #00af00; text-decoration-color: #00af00\">18</span>, <span style=\"color: #00af00; text-decoration-color: #00af00\">20</span>)     │             <span style=\"color: #00af00; text-decoration-color: #00af00\">0</span> │\n",
       "├─────────────────────────────────┼────────────────────────┼───────────────┤\n",
       "│ flatten_1 (<span style=\"color: #0087ff; text-decoration-color: #0087ff\">Flatten</span>)             │ (<span style=\"color: #00d7ff; text-decoration-color: #00d7ff\">None</span>, <span style=\"color: #00af00; text-decoration-color: #00af00\">6480</span>)           │             <span style=\"color: #00af00; text-decoration-color: #00af00\">0</span> │\n",
       "├─────────────────────────────────┼────────────────────────┼───────────────┤\n",
       "│ dense_2 (<span style=\"color: #0087ff; text-decoration-color: #0087ff\">Dense</span>)                 │ (<span style=\"color: #00d7ff; text-decoration-color: #00d7ff\">None</span>, <span style=\"color: #00af00; text-decoration-color: #00af00\">500</span>)            │     <span style=\"color: #00af00; text-decoration-color: #00af00\">3,240,500</span> │\n",
       "├─────────────────────────────────┼────────────────────────┼───────────────┤\n",
       "│ dense_3 (<span style=\"color: #0087ff; text-decoration-color: #0087ff\">Dense</span>)                 │ (<span style=\"color: #00d7ff; text-decoration-color: #00d7ff\">None</span>, <span style=\"color: #00af00; text-decoration-color: #00af00\">5</span>)              │         <span style=\"color: #00af00; text-decoration-color: #00af00\">2,505</span> │\n",
       "└─────────────────────────────────┴────────────────────────┴───────────────┘\n",
       "</pre>\n"
      ],
      "text/plain": [
       "┏━━━━━━━━━━━━━━━━━━━━━━━━━━━━━━━━━┳━━━━━━━━━━━━━━━━━━━━━━━━┳━━━━━━━━━━━━━━━┓\n",
       "┃\u001b[1m \u001b[0m\u001b[1mLayer (type)                   \u001b[0m\u001b[1m \u001b[0m┃\u001b[1m \u001b[0m\u001b[1mOutput Shape          \u001b[0m\u001b[1m \u001b[0m┃\u001b[1m \u001b[0m\u001b[1m      Param #\u001b[0m\u001b[1m \u001b[0m┃\n",
       "┡━━━━━━━━━━━━━━━━━━━━━━━━━━━━━━━━━╇━━━━━━━━━━━━━━━━━━━━━━━━╇━━━━━━━━━━━━━━━┩\n",
       "│ conv2d_2 (\u001b[38;5;33mConv2D\u001b[0m)               │ (\u001b[38;5;45mNone\u001b[0m, \u001b[38;5;34m91\u001b[0m, \u001b[38;5;34m91\u001b[0m, \u001b[38;5;34m10\u001b[0m)     │         \u001b[38;5;34m3,010\u001b[0m │\n",
       "├─────────────────────────────────┼────────────────────────┼───────────────┤\n",
       "│ max_pooling2d_2 (\u001b[38;5;33mMaxPooling2D\u001b[0m)  │ (\u001b[38;5;45mNone\u001b[0m, \u001b[38;5;34m45\u001b[0m, \u001b[38;5;34m45\u001b[0m, \u001b[38;5;34m10\u001b[0m)     │             \u001b[38;5;34m0\u001b[0m │\n",
       "├─────────────────────────────────┼────────────────────────┼───────────────┤\n",
       "│ conv2d_3 (\u001b[38;5;33mConv2D\u001b[0m)               │ (\u001b[38;5;45mNone\u001b[0m, \u001b[38;5;34m36\u001b[0m, \u001b[38;5;34m36\u001b[0m, \u001b[38;5;34m20\u001b[0m)     │        \u001b[38;5;34m20,020\u001b[0m │\n",
       "├─────────────────────────────────┼────────────────────────┼───────────────┤\n",
       "│ max_pooling2d_3 (\u001b[38;5;33mMaxPooling2D\u001b[0m)  │ (\u001b[38;5;45mNone\u001b[0m, \u001b[38;5;34m18\u001b[0m, \u001b[38;5;34m18\u001b[0m, \u001b[38;5;34m20\u001b[0m)     │             \u001b[38;5;34m0\u001b[0m │\n",
       "├─────────────────────────────────┼────────────────────────┼───────────────┤\n",
       "│ flatten_1 (\u001b[38;5;33mFlatten\u001b[0m)             │ (\u001b[38;5;45mNone\u001b[0m, \u001b[38;5;34m6480\u001b[0m)           │             \u001b[38;5;34m0\u001b[0m │\n",
       "├─────────────────────────────────┼────────────────────────┼───────────────┤\n",
       "│ dense_2 (\u001b[38;5;33mDense\u001b[0m)                 │ (\u001b[38;5;45mNone\u001b[0m, \u001b[38;5;34m500\u001b[0m)            │     \u001b[38;5;34m3,240,500\u001b[0m │\n",
       "├─────────────────────────────────┼────────────────────────┼───────────────┤\n",
       "│ dense_3 (\u001b[38;5;33mDense\u001b[0m)                 │ (\u001b[38;5;45mNone\u001b[0m, \u001b[38;5;34m5\u001b[0m)              │         \u001b[38;5;34m2,505\u001b[0m │\n",
       "└─────────────────────────────────┴────────────────────────┴───────────────┘\n"
      ]
     },
     "metadata": {},
     "output_type": "display_data"
    },
    {
     "data": {
      "text/html": [
       "<pre style=\"white-space:pre;overflow-x:auto;line-height:normal;font-family:Menlo,'DejaVu Sans Mono',consolas,'Courier New',monospace\"><span style=\"font-weight: bold\"> Total params: </span><span style=\"color: #00af00; text-decoration-color: #00af00\">3,266,035</span> (12.46 MB)\n",
       "</pre>\n"
      ],
      "text/plain": [
       "\u001b[1m Total params: \u001b[0m\u001b[38;5;34m3,266,035\u001b[0m (12.46 MB)\n"
      ]
     },
     "metadata": {},
     "output_type": "display_data"
    },
    {
     "data": {
      "text/html": [
       "<pre style=\"white-space:pre;overflow-x:auto;line-height:normal;font-family:Menlo,'DejaVu Sans Mono',consolas,'Courier New',monospace\"><span style=\"font-weight: bold\"> Trainable params: </span><span style=\"color: #00af00; text-decoration-color: #00af00\">3,266,035</span> (12.46 MB)\n",
       "</pre>\n"
      ],
      "text/plain": [
       "\u001b[1m Trainable params: \u001b[0m\u001b[38;5;34m3,266,035\u001b[0m (12.46 MB)\n"
      ]
     },
     "metadata": {},
     "output_type": "display_data"
    },
    {
     "data": {
      "text/html": [
       "<pre style=\"white-space:pre;overflow-x:auto;line-height:normal;font-family:Menlo,'DejaVu Sans Mono',consolas,'Courier New',monospace\"><span style=\"font-weight: bold\"> Non-trainable params: </span><span style=\"color: #00af00; text-decoration-color: #00af00\">0</span> (0.00 B)\n",
       "</pre>\n"
      ],
      "text/plain": [
       "\u001b[1m Non-trainable params: \u001b[0m\u001b[38;5;34m0\u001b[0m (0.00 B)\n"
      ]
     },
     "metadata": {},
     "output_type": "display_data"
    }
   ],
   "source": [
    "model.summary()"
   ]
  },
  {
   "cell_type": "code",
   "execution_count": 36,
   "id": "efd3577e-de6e-47c3-8c05-22e01b724691",
   "metadata": {},
   "outputs": [],
   "source": [
    "optimizer = tf.keras.optimizers.Adam(learning_rate=0.001)\n",
    "model.compile(optimizer = optimizer, loss=tf.keras.losses.SparseCategoricalCrossentropy(from_logits=True), metrics=['accuracy'])"
   ]
  },
  {
   "cell_type": "code",
   "execution_count": 37,
   "id": "53c18a18-44bd-45f2-8372-7650194810aa",
   "metadata": {},
   "outputs": [
    {
     "name": "stderr",
     "output_type": "stream",
     "text": [
      "2024-11-24 19:18:32.981635: W external/local_xla/xla/tsl/framework/cpu_allocator_impl.cc:83] Allocation of 585840000 exceeds 10% of free system memory.\n",
      "2024-11-24 19:18:33.471371: W external/local_xla/xla/tsl/framework/cpu_allocator_impl.cc:83] Allocation of 585840000 exceeds 10% of free system memory.\n"
     ]
    },
    {
     "name": "stdout",
     "output_type": "stream",
     "text": [
      "Epoch 1/10\n"
     ]
    },
    {
     "name": "stderr",
     "output_type": "stream",
     "text": [
      "WARNING: All log messages before absl::InitializeLog() is called are written to STDERR\n",
      "I0000 00:00:1732472314.949773    1956 service.cc:148] XLA service 0x7fbf50009820 initialized for platform CUDA (this does not guarantee that XLA will be used). Devices:\n",
      "I0000 00:00:1732472314.950773    1956 service.cc:156]   StreamExecutor device (0): NVIDIA GeForce GTX 1060 with Max-Q Design, Compute Capability 6.1\n",
      "2024-11-24 19:18:35.010959: I tensorflow/compiler/mlir/tensorflow/utils/dump_mlir_util.cc:268] disabling MLIR crash reproducer, set env var `MLIR_CRASH_REPRODUCER_DIRECTORY` to enable.\n",
      "I0000 00:00:1732472315.199868    1956 cuda_dnn.cc:529] Loaded cuDNN version 90300\n"
     ]
    },
    {
     "name": "stdout",
     "output_type": "stream",
     "text": [
      "\u001b[1m 14/153\u001b[0m \u001b[32m━\u001b[0m\u001b[37m━━━━━━━━━━━━━━━━━━━\u001b[0m \u001b[1m1s\u001b[0m 11ms/step - accuracy: 0.2499 - loss: 1.5946"
     ]
    },
    {
     "name": "stderr",
     "output_type": "stream",
     "text": [
      "I0000 00:00:1732472318.194298    1956 device_compiler.h:188] Compiled cluster using XLA!  This line is logged at most once for the lifetime of the process.\n"
     ]
    },
    {
     "name": "stdout",
     "output_type": "stream",
     "text": [
      "\u001b[1m153/153\u001b[0m \u001b[32m━━━━━━━━━━━━━━━━━━━━\u001b[0m\u001b[37m\u001b[0m \u001b[1m8s\u001b[0m 26ms/step - accuracy: 0.3108 - loss: 1.4859\n",
      "Epoch 2/10\n",
      "\u001b[1m153/153\u001b[0m \u001b[32m━━━━━━━━━━━━━━━━━━━━\u001b[0m\u001b[37m\u001b[0m \u001b[1m2s\u001b[0m 11ms/step - accuracy: 0.5296 - loss: 1.1693\n",
      "Epoch 3/10\n",
      "\u001b[1m153/153\u001b[0m \u001b[32m━━━━━━━━━━━━━━━━━━━━\u001b[0m\u001b[37m\u001b[0m \u001b[1m2s\u001b[0m 11ms/step - accuracy: 0.5944 - loss: 1.0016\n",
      "Epoch 4/10\n",
      "\u001b[1m153/153\u001b[0m \u001b[32m━━━━━━━━━━━━━━━━━━━━\u001b[0m\u001b[37m\u001b[0m \u001b[1m2s\u001b[0m 11ms/step - accuracy: 0.6477 - loss: 0.8803\n",
      "Epoch 5/10\n",
      "\u001b[1m153/153\u001b[0m \u001b[32m━━━━━━━━━━━━━━━━━━━━\u001b[0m\u001b[37m\u001b[0m \u001b[1m2s\u001b[0m 11ms/step - accuracy: 0.6843 - loss: 0.7819\n",
      "Epoch 6/10\n",
      "\u001b[1m153/153\u001b[0m \u001b[32m━━━━━━━━━━━━━━━━━━━━\u001b[0m\u001b[37m\u001b[0m \u001b[1m2s\u001b[0m 11ms/step - accuracy: 0.7375 - loss: 0.6398\n",
      "Epoch 7/10\n",
      "\u001b[1m153/153\u001b[0m \u001b[32m━━━━━━━━━━━━━━━━━━━━\u001b[0m\u001b[37m\u001b[0m \u001b[1m2s\u001b[0m 11ms/step - accuracy: 0.8095 - loss: 0.4906\n",
      "Epoch 8/10\n",
      "\u001b[1m153/153\u001b[0m \u001b[32m━━━━━━━━━━━━━━━━━━━━\u001b[0m\u001b[37m\u001b[0m \u001b[1m2s\u001b[0m 12ms/step - accuracy: 0.8716 - loss: 0.3600\n",
      "Epoch 9/10\n",
      "\u001b[1m153/153\u001b[0m \u001b[32m━━━━━━━━━━━━━━━━━━━━\u001b[0m\u001b[37m\u001b[0m \u001b[1m2s\u001b[0m 11ms/step - accuracy: 0.9200 - loss: 0.2320\n",
      "Epoch 10/10\n",
      "\u001b[1m153/153\u001b[0m \u001b[32m━━━━━━━━━━━━━━━━━━━━\u001b[0m\u001b[37m\u001b[0m \u001b[1m2s\u001b[0m 11ms/step - accuracy: 0.9519 - loss: 0.1456\n"
     ]
    }
   ],
   "source": [
    "history = model.fit(X_train, y_train, epochs=10)"
   ]
  },
  {
   "cell_type": "code",
   "execution_count": 38,
   "id": "54861255-81b2-4356-aeed-b9cb8fa8e1db",
   "metadata": {},
   "outputs": [
    {
     "data": {
      "image/png": "[encoded data removed]",
      "text/plain": [
       "<Figure size 640x480 with 1 Axes>"
      ]
     },
     "metadata": {},
     "output_type": "display_data"
    }
   ],
   "source": [
    "plt.plot(history.history['loss'])\n",
    "plt.title('model loss')\n",
    "plt.ylabel('loss')\n",
    "plt.xlabel('epoch')\n",
    "plt.show()"
   ]
  },
  {
   "cell_type": "code",
   "execution_count": 39,
   "id": "33108db8-f57d-48cc-bcbd-044a1179ec97",
   "metadata": {},
   "outputs": [
    {
     "name": "stdout",
     "output_type": "stream",
     "text": [
      "\u001b[1m1/1\u001b[0m \u001b[32m━━━━━━━━━━━━━━━━━━━━\u001b[0m\u001b[37m\u001b[0m \u001b[1m1s\u001b[0m 677ms/step\n"
     ]
    },
    {
     "data": {
      "text/plain": [
       "array([[1.7797904e-03, 4.7337217e-03, 7.8761549e-04, 9.8442769e-01,\n",
       "        8.2711084e-03]], dtype=float32)"
      ]
     },
     "execution_count": 39,
     "metadata": {},
     "output_type": "execute_result"
    }
   ],
   "source": [
    "np.exp(model.predict(np.array([X_train[0]])))"
   ]
  },
  {
   "cell_type": "code",
   "execution_count": 40,
   "id": "8419c4f5-1eb4-4603-9bd9-e7242148d152",
   "metadata": {},
   "outputs": [
    {
     "data": {
      "text/plain": [
       "np.int64(3)"
      ]
     },
     "execution_count": 40,
     "metadata": {},
     "output_type": "execute_result"
    }
   ],
   "source": [
    "y_train[0]"
   ]
  },
  {
   "cell_type": "code",
   "execution_count": 41,
   "id": "110011ca-7733-40b3-be56-454115cf5b0e",
   "metadata": {},
   "outputs": [
    {
     "name": "stdout",
     "output_type": "stream",
     "text": [
      "\u001b[1m66/66\u001b[0m \u001b[32m━━━━━━━━━━━━━━━━━━━━\u001b[0m\u001b[37m\u001b[0m \u001b[1m2s\u001b[0m 18ms/step - accuracy: 0.5874 - loss: 1.7558\n"
     ]
    },
    {
     "data": {
      "text/plain": [
       "[1.8469133377075195, 0.5695174336433411]"
      ]
     },
     "execution_count": 41,
     "metadata": {},
     "output_type": "execute_result"
    }
   ],
   "source": [
    "model.evaluate(X_test, y_test)"
   ]
  },
  {
   "cell_type": "code",
   "execution_count": 42,
   "id": "a1ec6c02-488c-407f-b9b3-3ef02ea2daa0",
   "metadata": {},
   "outputs": [],
   "source": [
    "from sklearn.metrics import confusion_matrix, ConfusionMatrixDisplay"
   ]
  },
  {
   "cell_type": "code",
   "execution_count": 43,
   "id": "c27010f5-c2e8-4e78-8e8e-3b4b89014525",
   "metadata": {},
   "outputs": [
    {
     "name": "stdout",
     "output_type": "stream",
     "text": [
      "\u001b[1m66/66\u001b[0m \u001b[32m━━━━━━━━━━━━━━━━━━━━\u001b[0m\u001b[37m\u001b[0m \u001b[1m1s\u001b[0m 8ms/step\n"
     ]
    }
   ],
   "source": [
    "y_pred = np.exp(model.predict(X_test))"
   ]
  },
  {
   "cell_type": "code",
   "execution_count": 44,
   "id": "77a40279-65c6-428b-9e87-b82d8d959d8a",
   "metadata": {},
   "outputs": [
    {
     "data": {
      "text/plain": [
       "array([[4.25950857e-04, 8.16192329e-02, 1.82072632e-02, 8.99747550e-01,\n",
       "        3.00895198e-10],\n",
       "       [9.99875367e-01, 1.39580152e-05, 8.91363441e-11, 1.08024855e-04,\n",
       "        2.66047323e-06],\n",
       "       [6.54364800e-14, 2.99110800e-01, 3.62268361e-06, 7.00885296e-01,\n",
       "        2.58610669e-07],\n",
       "       ...,\n",
       "       [6.00835559e-09, 4.93860571e-03, 4.10811650e-03, 9.90584433e-01,\n",
       "        3.68835463e-04],\n",
       "       [2.83120405e-02, 3.21482532e-02, 4.29710440e-07, 9.38170612e-01,\n",
       "        1.36858178e-03],\n",
       "       [1.40759096e-06, 3.71129736e-02, 2.75862738e-02, 9.33336318e-01,\n",
       "        1.96304428e-03]], dtype=float32)"
      ]
     },
     "execution_count": 44,
     "metadata": {},
     "output_type": "execute_result"
    }
   ],
   "source": [
    "y_pred"
   ]
  },
  {
   "cell_type": "code",
   "execution_count": 45,
   "id": "12fc709f-a601-4bd7-bc00-c20cfd4860ba",
   "metadata": {},
   "outputs": [],
   "source": [
    "y_pred_max = np.argmax(y_pred, axis=1)"
   ]
  },
  {
   "cell_type": "code",
   "execution_count": 46,
   "id": "79abd782-2256-4995-b4d8-542a40a58919",
   "metadata": {},
   "outputs": [
    {
     "data": {
      "text/plain": [
       "array([3, 0, 3, ..., 3, 3, 3])"
      ]
     },
     "execution_count": 46,
     "metadata": {},
     "output_type": "execute_result"
    }
   ],
   "source": [
    "y_pred_max"
   ]
  },
  {
   "cell_type": "code",
   "execution_count": 47,
   "id": "46ae3472-2881-4bb3-a640-af39a3d8e99b",
   "metadata": {},
   "outputs": [
    {
     "data": {
      "image/png": "[encoded data removed]",
      "text/plain": [
       "<Figure size 640x480 with 2 Axes>"
      ]
     },
     "metadata": {},
     "output_type": "display_data"
    }
   ],
   "source": [
    "matrix = confusion_matrix(y_test, y_pred_max)\n",
    "ConfusionMatrixDisplay(matrix).plot()\n",
    "plt.show()"
   ]
  },
  {
   "cell_type": "code",
   "execution_count": 128,
   "id": "29353ac1-4fdc-4212-9b6a-9a3f5b840d1c",
   "metadata": {},
   "outputs": [],
   "source": [
    "@tf.function(input_signature=[tf.TensorSpec(shape=(None), dtype=tf.string)])\n",
    "def pre_and_pro_process(images_bytes):\n",
    "    def preprocess(image_bytes):\n",
    "        image = tf.image.decode_image(image_bytes, channels=3)\n",
    "        image = tf.image.resize(image, [100, 100])\n",
    "        image = image / 255.0\n",
    "\n",
    "        return image\n",
    "\n",
    "    images = tf.map_fn(preprocess, images_bytes, dtype=tf.float32)\n",
    "\n",
    "    predictions = model(images)\n",
    "\n",
    "    output = []\n",
    "    for batch in predictions:\n",
    "        for index, emotion_prob in enumerate(batch):\n",
    "            output.append({emotions[index]: emotion_prob})\n",
    "\n",
    "    return output"
   ]
  },
  {
   "cell_type": "raw",
   "id": "f544190a-4fd7-4769-b72b-c7d72e4c7748",
   "metadata": {},
   "source": [
    "tf.saved_model.save(\n",
    "    model,\n",
    "    \"model_store_tf/1/\",\n",
    "    signatures={\"serving_default\": pre_and_pro_process}\n",
    ")"
   ]
  },
  {
   "cell_type": "code",
   "execution_count": 57,
   "id": "7dd2132d-ea55-412d-ae9d-93abf6996d02",
   "metadata": {},
   "outputs": [
    {
     "name": "stdout",
     "output_type": "stream",
     "text": [
      "INFO:tensorflow:Assets written to: model_store_tf/1/assets\n"
     ]
    },
    {
     "name": "stderr",
     "output_type": "stream",
     "text": [
      "INFO:tensorflow:Assets written to: model_store_tf/1/assets\n"
     ]
    },
    {
     "name": "stdout",
     "output_type": "stream",
     "text": [
      "Saved artifact at 'model_store_tf/1/'. The following endpoints are available:\n",
      "\n",
      "* Endpoint 'serve'\n",
      "  args_0 (POSITIONAL_ONLY): TensorSpec(shape=(None, 100, 100, 3), dtype=tf.float32, name='keras_tensor')\n",
      "Output Type:\n",
      "  TensorSpec(shape=(None, 5), dtype=tf.float32, name=None)\n",
      "Captures:\n",
      "  140157544553936: TensorSpec(shape=(), dtype=tf.resource, name=None)\n",
      "  140157544558864: TensorSpec(shape=(), dtype=tf.resource, name=None)\n",
      "  140157544934816: TensorSpec(shape=(), dtype=tf.resource, name=None)\n",
      "  140157544931824: TensorSpec(shape=(), dtype=tf.resource, name=None)\n",
      "  140157544910864: TensorSpec(shape=(), dtype=tf.resource, name=None)\n",
      "  140157544911744: TensorSpec(shape=(), dtype=tf.resource, name=None)\n",
      "  140157544915264: TensorSpec(shape=(), dtype=tf.resource, name=None)\n",
      "  140157544916144: TensorSpec(shape=(), dtype=tf.resource, name=None)\n"
     ]
    }
   ],
   "source": [
    "model.export(\"model_store_tf/1/\")"
   ]
  },
  {
   "cell_type": "code",
   "execution_count": 51,
   "id": "79ae5869-5431-4624-a29f-d5a661e94f88",
   "metadata": {},
   "outputs": [
    {
     "data": {
      "text/plain": [
       "'/home/adam/Bachelor/model_store_tf/model.keras'"
      ]
     },
     "execution_count": 51,
     "metadata": {},
     "output_type": "execute_result"
    }
   ],
   "source": [
    "import os\n",
    "os.path.abspath(\"model_store_tf/model.keras\")"
   ]
  },
  {
   "cell_type": "code",
   "execution_count": 41,
   "id": "def3bdd3-130a-4a44-890c-aa2b131b72d0",
   "metadata": {},
   "outputs": [],
   "source": [
    "import json"
   ]
  },
  {
   "cell_type": "code",
   "execution_count": 43,
   "id": "4ea5fcd7-b94f-4df0-9a39-1b8e0e933ffa",
   "metadata": {},
   "outputs": [],
   "source": [
    "request = json.dumps({\"instances\": X_train[0].tolist()})"
   ]
  },
  {
   "cell_type": "code",
   "execution_count": 55,
   "id": "552d819f-8728-4d4c-82d7-ceb47e13c6eb",
   "metadata": {},
   "outputs": [],
   "source": [
    "with open(\"happy.jpg\", \"rb\") as image_file:\n",
    "  a = image_file.read()\n",
    "  b = bytes(a)"
   ]
  },
  {
   "cell_type": "code",
   "execution_count": 83,
   "id": "1930063b-9d00-43ec-a813-5c9f926bde25",
   "metadata": {},
   "outputs": [],
   "source": [
    "imagetf = tf.image.decode_image(b, channels=3)"
   ]
  },
  {
   "cell_type": "code",
   "execution_count": 131,
   "id": "3572ad95-ac8c-492e-8684-48023895d47d",
   "metadata": {},
   "outputs": [
    {
     "data": {
      "text/plain": [
       "<tf.Tensor: shape=(540, 540, 3), dtype=uint8, numpy=\n",
       "array([[[23, 24, 16],\n",
       "        [22, 23, 15],\n",
       "        [21, 22, 14],\n",
       "        ...,\n",
       "        [ 0,  0,  0],\n",
       "        [ 0,  0,  0],\n",
       "        [ 0,  0,  0]],\n",
       "\n",
       "       [[23, 24, 16],\n",
       "        [23, 24, 16],\n",
       "        [21, 22, 14],\n",
       "        ...,\n",
       "        [ 0,  0,  0],\n",
       "        [ 0,  0,  0],\n",
       "        [ 0,  0,  0]],\n",
       "\n",
       "       [[23, 24, 16],\n",
       "        [22, 23, 15],\n",
       "        [21, 22, 14],\n",
       "        ...,\n",
       "        [ 0,  0,  0],\n",
       "        [ 0,  0,  0],\n",
       "        [ 0,  0,  0]],\n",
       "\n",
       "       ...,\n",
       "\n",
       "       [[ 6,  9, 16],\n",
       "        [ 5,  8, 15],\n",
       "        [ 5,  8, 15],\n",
       "        ...,\n",
       "        [12, 19, 27],\n",
       "        [ 9, 16, 24],\n",
       "        [ 7, 14, 22]],\n",
       "\n",
       "       [[ 6,  9, 16],\n",
       "        [ 5,  8, 15],\n",
       "        [ 5,  8, 15],\n",
       "        ...,\n",
       "        [12, 19, 27],\n",
       "        [ 9, 16, 24],\n",
       "        [ 7, 14, 22]],\n",
       "\n",
       "       [[ 6,  9, 16],\n",
       "        [ 5,  8, 15],\n",
       "        [ 5,  8, 15],\n",
       "        ...,\n",
       "        [12, 19, 27],\n",
       "        [ 9, 16, 24],\n",
       "        [ 7, 14, 22]]], dtype=uint8)>"
      ]
     },
     "execution_count": 131,
     "metadata": {},
     "output_type": "execute_result"
    }
   ],
   "source": [
    "pre_and_pro_process(b)"
   ]
  },
  {
   "cell_type": "code",
   "execution_count": null,
   "id": "994c259c-412a-4da2-900c-eeb4a373d437",
   "metadata": {},
   "outputs": [],
   "source": []
  }
 ],
 "metadata": {
  "kernelspec": {
   "display_name": "Python 3 (ipykernel)",
   "language": "python",
   "name": "python3"
  },
  "language_info": {
   "codemirror_mode": {
    "name": "ipython",
    "version": 3
   },
   "file_extension": ".py",
   "mimetype": "text/x-python",
   "name": "python",
   "nbconvert_exporter": "python",
   "pygments_lexer": "ipython3",
   "version": "3.10.13"
  }
 },
 "nbformat": 4,
 "nbformat_minor": 5
}
