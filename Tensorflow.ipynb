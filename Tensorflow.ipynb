{
 "cells": [
  {
   "cell_type": "code",
   "execution_count": 1,
   "id": "e548abf7-7119-4e57-b172-e94688641c00",
   "metadata": {},
   "outputs": [
    {
     "name": "stderr",
     "output_type": "stream",
     "text": [
      "2024-12-01 16:44:20.385908: E external/local_xla/xla/stream_executor/cuda/cuda_fft.cc:477] Unable to register cuFFT factory: Attempting to register factory for plugin cuFFT when one has already been registered\n",
      "WARNING: All log messages before absl::InitializeLog() is called are written to STDERR\n",
      "E0000 00:00:1733067860.466316     898 cuda_dnn.cc:8310] Unable to register cuDNN factory: Attempting to register factory for plugin cuDNN when one has already been registered\n",
      "E0000 00:00:1733067860.486985     898 cuda_blas.cc:1418] Unable to register cuBLAS factory: Attempting to register factory for plugin cuBLAS when one has already been registered\n",
      "2024-12-01 16:44:20.664578: I tensorflow/core/platform/cpu_feature_guard.cc:210] This TensorFlow binary is optimized to use available CPU instructions in performance-critical operations.\n",
      "To enable the following instructions: AVX2 FMA, in other operations, rebuild TensorFlow with the appropriate compiler flags.\n"
     ]
    }
   ],
   "source": [
    "import tensorflow as tf\n",
    "import numpy as np\n",
    "import pandas as pd\n",
    "import cv2 as cv\n",
    "from sklearn.model_selection import train_test_split\n",
    "import matplotlib.pyplot as plt\n",
    "from tensorflow.keras.export import ExportArchive"
   ]
  },
  {
   "cell_type": "code",
   "execution_count": 2,
   "id": "cb0a192b-6f5a-4018-92b8-77beaa57d8aa",
   "metadata": {},
   "outputs": [],
   "source": [
    "images_csv = pd.read_csv('data.csv')"
   ]
  },
  {
   "cell_type": "code",
   "execution_count": 3,
   "id": "38b0bb52-fd2c-417f-9d1d-ad2c5210066a",
   "metadata": {},
   "outputs": [
    {
     "data": {
      "text/html": [
       "<div>\n",
       "<style scoped>\n",
       "    .dataframe tbody tr th:only-of-type {\n",
       "        vertical-align: middle;\n",
       "    }\n",
       "\n",
       "    .dataframe tbody tr th {\n",
       "        vertical-align: top;\n",
       "    }\n",
       "\n",
       "    .dataframe thead th {\n",
       "        text-align: right;\n",
       "    }\n",
       "</style>\n",
       "<table border=\"1\" class=\"dataframe\">\n",
       "  <thead>\n",
       "    <tr style=\"text-align: right;\">\n",
       "      <th></th>\n",
       "      <th>path</th>\n",
       "      <th>label</th>\n",
       "    </tr>\n",
       "  </thead>\n",
       "  <tbody>\n",
       "    <tr>\n",
       "      <th>0</th>\n",
       "      <td>Surprise/1bd930d6a1c717c11be33db74823f661cb53f...</td>\n",
       "      <td>Surprise</td>\n",
       "    </tr>\n",
       "    <tr>\n",
       "      <th>1</th>\n",
       "      <td>Surprise/cropped_emotions.100096~12fffff.png</td>\n",
       "      <td>Surprise</td>\n",
       "    </tr>\n",
       "    <tr>\n",
       "      <th>2</th>\n",
       "      <td>Surprise/0df0e470e33093f5b72a8197fa209d684032c...</td>\n",
       "      <td>Surprise</td>\n",
       "    </tr>\n",
       "    <tr>\n",
       "      <th>3</th>\n",
       "      <td>Surprise/cropped_emotions.260779~12fffff.png</td>\n",
       "      <td>Surprise</td>\n",
       "    </tr>\n",
       "    <tr>\n",
       "      <th>4</th>\n",
       "      <td>Surprise/cropped_emotions.263616~12fffff.png</td>\n",
       "      <td>Surprise</td>\n",
       "    </tr>\n",
       "  </tbody>\n",
       "</table>\n",
       "</div>"
      ],
      "text/plain": [
       "                                                path     label\n",
       "0  Surprise/1bd930d6a1c717c11be33db74823f661cb53f...  Surprise\n",
       "1       Surprise/cropped_emotions.100096~12fffff.png  Surprise\n",
       "2  Surprise/0df0e470e33093f5b72a8197fa209d684032c...  Surprise\n",
       "3       Surprise/cropped_emotions.260779~12fffff.png  Surprise\n",
       "4       Surprise/cropped_emotions.263616~12fffff.png  Surprise"
      ]
     },
     "execution_count": 3,
     "metadata": {},
     "output_type": "execute_result"
    }
   ],
   "source": [
    "images_csv = images_csv[['path', 'label']]\n",
    "images_csv.head()"
   ]
  },
  {
   "cell_type": "code",
   "execution_count": 4,
   "id": "b31bad53-d3d9-4084-9984-9069e65f3b9b",
   "metadata": {},
   "outputs": [],
   "source": [
    "to_drop = images_csv[images_csv[\"label\"] == \"Ahegao\"].index\n",
    "images_csv = images_csv.drop(to_drop)"
   ]
  },
  {
   "cell_type": "code",
   "execution_count": 5,
   "id": "d80fdc5f-c234-4051-9df1-bdbd11a841ce",
   "metadata": {},
   "outputs": [
    {
     "name": "stdout",
     "output_type": "stream",
     "text": [
      "{'Surprise': 0, 'Sad': 1, 'Happy': 2, 'Neutral': 3, 'Angry': 4}\n"
     ]
    }
   ],
   "source": [
    "emotions = images_csv['label'].unique()\n",
    "emotions_dic = {}\n",
    "for index, emotion in enumerate(emotions):\n",
    "    emotions_dic[emotion] = index\n",
    "\n",
    "print(emotions_dic)"
   ]
  },
  {
   "cell_type": "code",
   "execution_count": 6,
   "id": "72911d97-be6d-4cc5-be0f-c911959489cb",
   "metadata": {},
   "outputs": [
    {
     "name": "stderr",
     "output_type": "stream",
     "text": [
      "/tmp/ipykernel_898/2357465474.py:1: FutureWarning: Downcasting behavior in `replace` is deprecated and will be removed in a future version. To retain the old behavior, explicitly call `result.infer_objects(copy=False)`. To opt-in to the future behavior, set `pd.set_option('future.no_silent_downcasting', True)`\n",
      "  e_images = images_csv.replace(emotions_dic)\n"
     ]
    }
   ],
   "source": [
    "e_images = images_csv.replace(emotions_dic)"
   ]
  },
  {
   "cell_type": "code",
   "execution_count": 7,
   "id": "d46eb352-393e-49e1-b79c-66749fe7999f",
   "metadata": {},
   "outputs": [],
   "source": [
    "Sizes = []\n",
    "for i in e_images['path']:\n",
    "    image = cv.imread(f'dataset/{i}')\n",
    "    height = image.shape[0]\n",
    "    width = image.shape[1]\n",
    "    Sizes.append(height*width)"
   ]
  },
  {
   "cell_type": "code",
   "execution_count": 8,
   "id": "402ce289-ac97-467c-bb17-74494307b5ff",
   "metadata": {},
   "outputs": [],
   "source": [
    "e_images.insert(2, 'Sizes', Sizes)"
   ]
  },
  {
   "cell_type": "code",
   "execution_count": 9,
   "id": "a32abae6-f1ad-4a99-a96a-546f1cafe136",
   "metadata": {},
   "outputs": [
    {
     "data": {
      "text/html": [
       "<div>\n",
       "<style scoped>\n",
       "    .dataframe tbody tr th:only-of-type {\n",
       "        vertical-align: middle;\n",
       "    }\n",
       "\n",
       "    .dataframe tbody tr th {\n",
       "        vertical-align: top;\n",
       "    }\n",
       "\n",
       "    .dataframe thead th {\n",
       "        text-align: right;\n",
       "    }\n",
       "</style>\n",
       "<table border=\"1\" class=\"dataframe\">\n",
       "  <thead>\n",
       "    <tr style=\"text-align: right;\">\n",
       "      <th></th>\n",
       "      <th>path</th>\n",
       "      <th>label</th>\n",
       "      <th>Sizes</th>\n",
       "    </tr>\n",
       "  </thead>\n",
       "  <tbody>\n",
       "    <tr>\n",
       "      <th>0</th>\n",
       "      <td>Surprise/1bd930d6a1c717c11be33db74823f661cb53f...</td>\n",
       "      <td>0</td>\n",
       "      <td>230400</td>\n",
       "    </tr>\n",
       "    <tr>\n",
       "      <th>4</th>\n",
       "      <td>Surprise/cropped_emotions.263616~12fffff.png</td>\n",
       "      <td>0</td>\n",
       "      <td>187833</td>\n",
       "    </tr>\n",
       "    <tr>\n",
       "      <th>7</th>\n",
       "      <td>Surprise/0a15c44d8be6cc71cd9d8ab595266e5147459...</td>\n",
       "      <td>0</td>\n",
       "      <td>459684</td>\n",
       "    </tr>\n",
       "    <tr>\n",
       "      <th>9</th>\n",
       "      <td>Surprise/cropped_emotions.263517~12fffff.png</td>\n",
       "      <td>0</td>\n",
       "      <td>166160</td>\n",
       "    </tr>\n",
       "    <tr>\n",
       "      <th>10</th>\n",
       "      <td>Surprise/cropped_emotions.265653~12fffff.png</td>\n",
       "      <td>0</td>\n",
       "      <td>128310</td>\n",
       "    </tr>\n",
       "    <tr>\n",
       "      <th>...</th>\n",
       "      <td>...</td>\n",
       "      <td>...</td>\n",
       "      <td>...</td>\n",
       "    </tr>\n",
       "    <tr>\n",
       "      <th>15439</th>\n",
       "      <td>Angry/cropped_emotions.571531~angry.png</td>\n",
       "      <td>4</td>\n",
       "      <td>412125</td>\n",
       "    </tr>\n",
       "    <tr>\n",
       "      <th>15440</th>\n",
       "      <td>Angry/cropped_emotions.157999~angry.png</td>\n",
       "      <td>4</td>\n",
       "      <td>106110</td>\n",
       "    </tr>\n",
       "    <tr>\n",
       "      <th>15441</th>\n",
       "      <td>Angry/cropped_emotions.231380~angry.png</td>\n",
       "      <td>4</td>\n",
       "      <td>194530</td>\n",
       "    </tr>\n",
       "    <tr>\n",
       "      <th>15442</th>\n",
       "      <td>Angry/cropped_emotions.232172~angry.png</td>\n",
       "      <td>4</td>\n",
       "      <td>350620</td>\n",
       "    </tr>\n",
       "    <tr>\n",
       "      <th>15452</th>\n",
       "      <td>Angry/7fdcf428267020e7b1b063745c0834ae6ccb9125...</td>\n",
       "      <td>4</td>\n",
       "      <td>132496</td>\n",
       "    </tr>\n",
       "  </tbody>\n",
       "</table>\n",
       "<p>6975 rows × 3 columns</p>\n",
       "</div>"
      ],
      "text/plain": [
       "                                                    path  label   Sizes\n",
       "0      Surprise/1bd930d6a1c717c11be33db74823f661cb53f...      0  230400\n",
       "4           Surprise/cropped_emotions.263616~12fffff.png      0  187833\n",
       "7      Surprise/0a15c44d8be6cc71cd9d8ab595266e5147459...      0  459684\n",
       "9           Surprise/cropped_emotions.263517~12fffff.png      0  166160\n",
       "10          Surprise/cropped_emotions.265653~12fffff.png      0  128310\n",
       "...                                                  ...    ...     ...\n",
       "15439            Angry/cropped_emotions.571531~angry.png      4  412125\n",
       "15440            Angry/cropped_emotions.157999~angry.png      4  106110\n",
       "15441            Angry/cropped_emotions.231380~angry.png      4  194530\n",
       "15442            Angry/cropped_emotions.232172~angry.png      4  350620\n",
       "15452  Angry/7fdcf428267020e7b1b063745c0834ae6ccb9125...      4  132496\n",
       "\n",
       "[6975 rows x 3 columns]"
      ]
     },
     "execution_count": 9,
     "metadata": {},
     "output_type": "execute_result"
    }
   ],
   "source": [
    "diffrence = 100000\n",
    "photo_filter = (e_images['Sizes'] >= diffrence)\n",
    "e_images_filtered = e_images.loc[photo_filter]\n",
    "e_images_filtered"
   ]
  },
  {
   "cell_type": "code",
   "execution_count": 10,
   "id": "27e02291-764e-46e9-8643-5950a23fd7a7",
   "metadata": {},
   "outputs": [
    {
     "data": {
      "image/png": "[encoded data removed]",
      "text/plain": [
       "<Figure size 640x480 with 1 Axes>"
      ]
     },
     "metadata": {},
     "output_type": "display_data"
    }
   ],
   "source": [
    "photos_by_emotions = e_images_filtered.groupby('label').count()\n",
    "plt.bar(photos_by_emotions.index, photos_by_emotions['path']);"
   ]
  },
  {
   "cell_type": "code",
   "execution_count": 11,
   "id": "1fda01f5-a64d-45d3-bfc9-b38df43f5eb0",
   "metadata": {},
   "outputs": [],
   "source": [
    "X = e_images_filtered['path']\n",
    "y = e_images_filtered['label']"
   ]
  },
  {
   "cell_type": "code",
   "execution_count": 12,
   "id": "aa001282-39d3-451f-aeb6-a51ed6d40f3a",
   "metadata": {},
   "outputs": [],
   "source": [
    "X_images = []\n",
    "for i in X:\n",
    "    image = cv.imread(f'dataset/{i}')\n",
    "    rgb_image = cv.cvtColor(image, cv.COLOR_BGR2RGB)\n",
    "    resize_image = cv.resize(rgb_image, (100, 100))\n",
    "    std_image = resize_image / 255.0\n",
    "    X_images.append(std_image)\n",
    "\n",
    "X_images_np = np.array(X_images).astype(dtype='float32')\n",
    "y_np = y.to_numpy().astype(dtype='long')"
   ]
  },
  {
   "cell_type": "code",
   "execution_count": 13,
   "id": "0ac3c34d-5051-4b31-a82c-d22dd38e656c",
   "metadata": {},
   "outputs": [],
   "source": [
    "Images = []\n",
    "for image in range(5):\n",
    "    index = np.where(y_np == image)[0][0]\n",
    "    Images.append(X_images_np[index])"
   ]
  },
  {
   "cell_type": "code",
   "execution_count": 14,
   "id": "9abfbdaf-459a-4507-8e32-7ef968b5001b",
   "metadata": {},
   "outputs": [
    {
     "data": {
      "text/plain": [
       "(100, 100, 3)"
      ]
     },
     "execution_count": 14,
     "metadata": {},
     "output_type": "execute_result"
    }
   ],
   "source": [
    "Images[0].shape"
   ]
  },
  {
   "cell_type": "code",
   "execution_count": 15,
   "id": "11c7a0ca-e98a-41bd-8bf3-405a278d9937",
   "metadata": {},
   "outputs": [
    {
     "name": "stderr",
     "output_type": "stream",
     "text": [
      "/tmp/ipykernel_898/4104482281.py:6: UserWarning: FigureCanvasAgg is non-interactive, and thus cannot be shown\n",
      "  fig.show()\n"
     ]
    },
    {
     "data": {
      "image/png": "[encoded data removed]",
      "text/plain": [
       "<Figure size 640x480 with 5 Axes>"
      ]
     },
     "metadata": {},
     "output_type": "display_data"
    }
   ],
   "source": [
    "fig, axs = plt.subplots(1,5)\n",
    "\n",
    "for index, ax in enumerate(axs.ravel()):\n",
    "    ax.imshow(Images[index])\n",
    "    \n",
    "fig.show()"
   ]
  },
  {
   "cell_type": "code",
   "execution_count": 16,
   "id": "e5428c92-96e1-4034-9de4-b015649ac4d7",
   "metadata": {},
   "outputs": [
    {
     "data": {
      "text/plain": [
       "(6975, 100, 100, 3)"
      ]
     },
     "execution_count": 16,
     "metadata": {},
     "output_type": "execute_result"
    }
   ],
   "source": [
    "X_images_np.shape"
   ]
  },
  {
   "cell_type": "code",
   "execution_count": 17,
   "id": "c6b480ce-ef5e-4a25-928e-4e2c7908c70a",
   "metadata": {},
   "outputs": [],
   "source": [
    "X_train, X_test, y_train, y_test = train_test_split(X_images_np, y_np, test_size=0.3, random_state=123, stratify=y)"
   ]
  },
  {
   "cell_type": "code",
   "execution_count": 18,
   "id": "aa661fe8-a9b0-41aa-835b-9ee1dade124f",
   "metadata": {},
   "outputs": [
    {
     "data": {
      "text/plain": [
       "(4882, 100, 100, 3)"
      ]
     },
     "execution_count": 18,
     "metadata": {},
     "output_type": "execute_result"
    }
   ],
   "source": [
    "X_train.shape"
   ]
  },
  {
   "cell_type": "code",
   "execution_count": 19,
   "id": "1a2b92df-d9d6-424f-9944-b204d24617f9",
   "metadata": {},
   "outputs": [
    {
     "data": {
      "text/plain": [
       "array([3, 1, 3, ..., 3, 3, 1])"
      ]
     },
     "execution_count": 19,
     "metadata": {},
     "output_type": "execute_result"
    }
   ],
   "source": [
    "y_train"
   ]
  },
  {
   "cell_type": "code",
   "execution_count": 20,
   "id": "5e753471-ffe6-473b-8c62-db2e98773ae6",
   "metadata": {},
   "outputs": [],
   "source": [
    "from tensorflow.keras import Sequential\n",
    "from tensorflow.keras.layers import Dense, Conv2D, MaxPooling2D, Flatten"
   ]
  },
  {
   "cell_type": "code",
   "execution_count": 21,
   "id": "5fe5e437-8f00-4794-a13c-81cd582cc2cc",
   "metadata": {},
   "outputs": [
    {
     "name": "stderr",
     "output_type": "stream",
     "text": [
      "/home/adam/anaconda3/envs/tensorflow/lib/python3.10/site-packages/keras/src/layers/convolutional/base_conv.py:107: UserWarning: Do not pass an `input_shape`/`input_dim` argument to a layer. When using Sequential models, prefer using an `Input(shape)` object as the first layer in the model instead.\n",
      "  super().__init__(activity_regularizer=activity_regularizer, **kwargs)\n",
      "I0000 00:00:1733067971.438611     898 gpu_device.cc:2022] Created device /job:localhost/replica:0/task:0/device:GPU:0 with 4701 MB memory:  -> device: 0, name: NVIDIA GeForce GTX 1060 with Max-Q Design, pci bus id: 0000:01:00.0, compute capability: 6.1\n"
     ]
    }
   ],
   "source": [
    "model = Sequential()\n",
    "model.add(Conv2D(10, (10, 10), activation = 'relu', input_shape=(100, 100, 3)))\n",
    "model.add(MaxPooling2D((2, 2)))\n",
    "model.add(Conv2D(20, (10, 10), activation = 'relu'))\n",
    "model.add(MaxPooling2D((2, 2)))\n",
    "model.add(Flatten())\n",
    "model.add(Dense(500, activation = 'relu'))\n",
    "model.add(Dense(5, activation = 'log_softmax'))"
   ]
  },
  {
   "cell_type": "code",
   "execution_count": 22,
   "id": "61d2e299-d30f-41d1-b673-1f3abaa1ab53",
   "metadata": {},
   "outputs": [
    {
     "data": {
      "text/html": [
       "<pre style=\"white-space:pre;overflow-x:auto;line-height:normal;font-family:Menlo,'DejaVu Sans Mono',consolas,'Courier New',monospace\"><span style=\"font-weight: bold\">Model: \"sequential\"</span>\n",
       "</pre>\n"
      ],
      "text/plain": [
       "\u001b[1mModel: \"sequential\"\u001b[0m\n"
      ]
     },
     "metadata": {},
     "output_type": "display_data"
    },
    {
     "data": {
      "text/html": [
       "<pre style=\"white-space:pre;overflow-x:auto;line-height:normal;font-family:Menlo,'DejaVu Sans Mono',consolas,'Courier New',monospace\">┏━━━━━━━━━━━━━━━━━━━━━━━━━━━━━━━━━┳━━━━━━━━━━━━━━━━━━━━━━━━┳━━━━━━━━━━━━━━━┓\n",
       "┃<span style=\"font-weight: bold\"> Layer (type)                    </span>┃<span style=\"font-weight: bold\"> Output Shape           </span>┃<span style=\"font-weight: bold\">       Param # </span>┃\n",
       "┡━━━━━━━━━━━━━━━━━━━━━━━━━━━━━━━━━╇━━━━━━━━━━━━━━━━━━━━━━━━╇━━━━━━━━━━━━━━━┩\n",
       "│ conv2d (<span style=\"color: #0087ff; text-decoration-color: #0087ff\">Conv2D</span>)                 │ (<span style=\"color: #00d7ff; text-decoration-color: #00d7ff\">None</span>, <span style=\"color: #00af00; text-decoration-color: #00af00\">91</span>, <span style=\"color: #00af00; text-decoration-color: #00af00\">91</span>, <span style=\"color: #00af00; text-decoration-color: #00af00\">10</span>)     │         <span style=\"color: #00af00; text-decoration-color: #00af00\">3,010</span> │\n",
       "├─────────────────────────────────┼────────────────────────┼───────────────┤\n",
       "│ max_pooling2d (<span style=\"color: #0087ff; text-decoration-color: #0087ff\">MaxPooling2D</span>)    │ (<span style=\"color: #00d7ff; text-decoration-color: #00d7ff\">None</span>, <span style=\"color: #00af00; text-decoration-color: #00af00\">45</span>, <span style=\"color: #00af00; text-decoration-color: #00af00\">45</span>, <span style=\"color: #00af00; text-decoration-color: #00af00\">10</span>)     │             <span style=\"color: #00af00; text-decoration-color: #00af00\">0</span> │\n",
       "├─────────────────────────────────┼────────────────────────┼───────────────┤\n",
       "│ conv2d_1 (<span style=\"color: #0087ff; text-decoration-color: #0087ff\">Conv2D</span>)               │ (<span style=\"color: #00d7ff; text-decoration-color: #00d7ff\">None</span>, <span style=\"color: #00af00; text-decoration-color: #00af00\">36</span>, <span style=\"color: #00af00; text-decoration-color: #00af00\">36</span>, <span style=\"color: #00af00; text-decoration-color: #00af00\">20</span>)     │        <span style=\"color: #00af00; text-decoration-color: #00af00\">20,020</span> │\n",
       "├─────────────────────────────────┼────────────────────────┼───────────────┤\n",
       "│ max_pooling2d_1 (<span style=\"color: #0087ff; text-decoration-color: #0087ff\">MaxPooling2D</span>)  │ (<span style=\"color: #00d7ff; text-decoration-color: #00d7ff\">None</span>, <span style=\"color: #00af00; text-decoration-color: #00af00\">18</span>, <span style=\"color: #00af00; text-decoration-color: #00af00\">18</span>, <span style=\"color: #00af00; text-decoration-color: #00af00\">20</span>)     │             <span style=\"color: #00af00; text-decoration-color: #00af00\">0</span> │\n",
       "├─────────────────────────────────┼────────────────────────┼───────────────┤\n",
       "│ flatten (<span style=\"color: #0087ff; text-decoration-color: #0087ff\">Flatten</span>)               │ (<span style=\"color: #00d7ff; text-decoration-color: #00d7ff\">None</span>, <span style=\"color: #00af00; text-decoration-color: #00af00\">6480</span>)           │             <span style=\"color: #00af00; text-decoration-color: #00af00\">0</span> │\n",
       "├─────────────────────────────────┼────────────────────────┼───────────────┤\n",
       "│ dense (<span style=\"color: #0087ff; text-decoration-color: #0087ff\">Dense</span>)                   │ (<span style=\"color: #00d7ff; text-decoration-color: #00d7ff\">None</span>, <span style=\"color: #00af00; text-decoration-color: #00af00\">500</span>)            │     <span style=\"color: #00af00; text-decoration-color: #00af00\">3,240,500</span> │\n",
       "├─────────────────────────────────┼────────────────────────┼───────────────┤\n",
       "│ dense_1 (<span style=\"color: #0087ff; text-decoration-color: #0087ff\">Dense</span>)                 │ (<span style=\"color: #00d7ff; text-decoration-color: #00d7ff\">None</span>, <span style=\"color: #00af00; text-decoration-color: #00af00\">5</span>)              │         <span style=\"color: #00af00; text-decoration-color: #00af00\">2,505</span> │\n",
       "└─────────────────────────────────┴────────────────────────┴───────────────┘\n",
       "</pre>\n"
      ],
      "text/plain": [
       "┏━━━━━━━━━━━━━━━━━━━━━━━━━━━━━━━━━┳━━━━━━━━━━━━━━━━━━━━━━━━┳━━━━━━━━━━━━━━━┓\n",
       "┃\u001b[1m \u001b[0m\u001b[1mLayer (type)                   \u001b[0m\u001b[1m \u001b[0m┃\u001b[1m \u001b[0m\u001b[1mOutput Shape          \u001b[0m\u001b[1m \u001b[0m┃\u001b[1m \u001b[0m\u001b[1m      Param #\u001b[0m\u001b[1m \u001b[0m┃\n",
       "┡━━━━━━━━━━━━━━━━━━━━━━━━━━━━━━━━━╇━━━━━━━━━━━━━━━━━━━━━━━━╇━━━━━━━━━━━━━━━┩\n",
       "│ conv2d (\u001b[38;5;33mConv2D\u001b[0m)                 │ (\u001b[38;5;45mNone\u001b[0m, \u001b[38;5;34m91\u001b[0m, \u001b[38;5;34m91\u001b[0m, \u001b[38;5;34m10\u001b[0m)     │         \u001b[38;5;34m3,010\u001b[0m │\n",
       "├─────────────────────────────────┼────────────────────────┼───────────────┤\n",
       "│ max_pooling2d (\u001b[38;5;33mMaxPooling2D\u001b[0m)    │ (\u001b[38;5;45mNone\u001b[0m, \u001b[38;5;34m45\u001b[0m, \u001b[38;5;34m45\u001b[0m, \u001b[38;5;34m10\u001b[0m)     │             \u001b[38;5;34m0\u001b[0m │\n",
       "├─────────────────────────────────┼────────────────────────┼───────────────┤\n",
       "│ conv2d_1 (\u001b[38;5;33mConv2D\u001b[0m)               │ (\u001b[38;5;45mNone\u001b[0m, \u001b[38;5;34m36\u001b[0m, \u001b[38;5;34m36\u001b[0m, \u001b[38;5;34m20\u001b[0m)     │        \u001b[38;5;34m20,020\u001b[0m │\n",
       "├─────────────────────────────────┼────────────────────────┼───────────────┤\n",
       "│ max_pooling2d_1 (\u001b[38;5;33mMaxPooling2D\u001b[0m)  │ (\u001b[38;5;45mNone\u001b[0m, \u001b[38;5;34m18\u001b[0m, \u001b[38;5;34m18\u001b[0m, \u001b[38;5;34m20\u001b[0m)     │             \u001b[38;5;34m0\u001b[0m │\n",
       "├─────────────────────────────────┼────────────────────────┼───────────────┤\n",
       "│ flatten (\u001b[38;5;33mFlatten\u001b[0m)               │ (\u001b[38;5;45mNone\u001b[0m, \u001b[38;5;34m6480\u001b[0m)           │             \u001b[38;5;34m0\u001b[0m │\n",
       "├─────────────────────────────────┼────────────────────────┼───────────────┤\n",
       "│ dense (\u001b[38;5;33mDense\u001b[0m)                   │ (\u001b[38;5;45mNone\u001b[0m, \u001b[38;5;34m500\u001b[0m)            │     \u001b[38;5;34m3,240,500\u001b[0m │\n",
       "├─────────────────────────────────┼────────────────────────┼───────────────┤\n",
       "│ dense_1 (\u001b[38;5;33mDense\u001b[0m)                 │ (\u001b[38;5;45mNone\u001b[0m, \u001b[38;5;34m5\u001b[0m)              │         \u001b[38;5;34m2,505\u001b[0m │\n",
       "└─────────────────────────────────┴────────────────────────┴───────────────┘\n"
      ]
     },
     "metadata": {},
     "output_type": "display_data"
    },
    {
     "data": {
      "text/html": [
       "<pre style=\"white-space:pre;overflow-x:auto;line-height:normal;font-family:Menlo,'DejaVu Sans Mono',consolas,'Courier New',monospace\"><span style=\"font-weight: bold\"> Total params: </span><span style=\"color: #00af00; text-decoration-color: #00af00\">3,266,035</span> (12.46 MB)\n",
       "</pre>\n"
      ],
      "text/plain": [
       "\u001b[1m Total params: \u001b[0m\u001b[38;5;34m3,266,035\u001b[0m (12.46 MB)\n"
      ]
     },
     "metadata": {},
     "output_type": "display_data"
    },
    {
     "data": {
      "text/html": [
       "<pre style=\"white-space:pre;overflow-x:auto;line-height:normal;font-family:Menlo,'DejaVu Sans Mono',consolas,'Courier New',monospace\"><span style=\"font-weight: bold\"> Trainable params: </span><span style=\"color: #00af00; text-decoration-color: #00af00\">3,266,035</span> (12.46 MB)\n",
       "</pre>\n"
      ],
      "text/plain": [
       "\u001b[1m Trainable params: \u001b[0m\u001b[38;5;34m3,266,035\u001b[0m (12.46 MB)\n"
      ]
     },
     "metadata": {},
     "output_type": "display_data"
    },
    {
     "data": {
      "text/html": [
       "<pre style=\"white-space:pre;overflow-x:auto;line-height:normal;font-family:Menlo,'DejaVu Sans Mono',consolas,'Courier New',monospace\"><span style=\"font-weight: bold\"> Non-trainable params: </span><span style=\"color: #00af00; text-decoration-color: #00af00\">0</span> (0.00 B)\n",
       "</pre>\n"
      ],
      "text/plain": [
       "\u001b[1m Non-trainable params: \u001b[0m\u001b[38;5;34m0\u001b[0m (0.00 B)\n"
      ]
     },
     "metadata": {},
     "output_type": "display_data"
    }
   ],
   "source": [
    "model.summary()"
   ]
  },
  {
   "cell_type": "code",
   "execution_count": 23,
   "id": "efd3577e-de6e-47c3-8c05-22e01b724691",
   "metadata": {},
   "outputs": [],
   "source": [
    "optimizer = tf.keras.optimizers.Adam(learning_rate=0.001)\n",
    "model.compile(optimizer = optimizer, loss=tf.keras.losses.SparseCategoricalCrossentropy(from_logits=True), metrics=['accuracy'])"
   ]
  },
  {
   "cell_type": "code",
   "execution_count": 24,
   "id": "53c18a18-44bd-45f2-8372-7650194810aa",
   "metadata": {},
   "outputs": [
    {
     "name": "stderr",
     "output_type": "stream",
     "text": [
      "2024-12-01 16:46:13.712121: W external/local_xla/xla/tsl/framework/cpu_allocator_impl.cc:83] Allocation of 585840000 exceeds 10% of free system memory.\n",
      "2024-12-01 16:46:14.180620: W external/local_xla/xla/tsl/framework/cpu_allocator_impl.cc:83] Allocation of 585840000 exceeds 10% of free system memory.\n"
     ]
    },
    {
     "name": "stdout",
     "output_type": "stream",
     "text": [
      "Epoch 1/10\n"
     ]
    },
    {
     "name": "stderr",
     "output_type": "stream",
     "text": [
      "WARNING: All log messages before absl::InitializeLog() is called are written to STDERR\n",
      "I0000 00:00:1733067975.598362    1149 service.cc:148] XLA service 0x7f13e400ba30 initialized for platform CUDA (this does not guarantee that XLA will be used). Devices:\n",
      "I0000 00:00:1733067975.599193    1149 service.cc:156]   StreamExecutor device (0): NVIDIA GeForce GTX 1060 with Max-Q Design, Compute Capability 6.1\n",
      "2024-12-01 16:46:15.657387: I tensorflow/compiler/mlir/tensorflow/utils/dump_mlir_util.cc:268] disabling MLIR crash reproducer, set env var `MLIR_CRASH_REPRODUCER_DIRECTORY` to enable.\n",
      "I0000 00:00:1733067975.839053    1149 cuda_dnn.cc:529] Loaded cuDNN version 90300\n"
     ]
    },
    {
     "name": "stdout",
     "output_type": "stream",
     "text": [
      "\u001b[1m 14/153\u001b[0m \u001b[32m━\u001b[0m\u001b[37m━━━━━━━━━━━━━━━━━━━\u001b[0m \u001b[1m1s\u001b[0m 12ms/step - accuracy: 0.2485 - loss: 1.6803"
     ]
    },
    {
     "name": "stderr",
     "output_type": "stream",
     "text": [
      "I0000 00:00:1733067978.515302    1149 device_compiler.h:188] Compiled cluster using XLA!  This line is logged at most once for the lifetime of the process.\n"
     ]
    },
    {
     "name": "stdout",
     "output_type": "stream",
     "text": [
      "\u001b[1m153/153\u001b[0m \u001b[32m━━━━━━━━━━━━━━━━━━━━\u001b[0m\u001b[37m\u001b[0m \u001b[1m8s\u001b[0m 24ms/step - accuracy: 0.3408 - loss: 1.4533\n",
      "Epoch 2/10\n",
      "\u001b[1m153/153\u001b[0m \u001b[32m━━━━━━━━━━━━━━━━━━━━\u001b[0m\u001b[37m\u001b[0m \u001b[1m2s\u001b[0m 11ms/step - accuracy: 0.5519 - loss: 1.0363\n",
      "Epoch 3/10\n",
      "\u001b[1m153/153\u001b[0m \u001b[32m━━━━━━━━━━━━━━━━━━━━\u001b[0m\u001b[37m\u001b[0m \u001b[1m2s\u001b[0m 11ms/step - accuracy: 0.6129 - loss: 0.9082\n",
      "Epoch 4/10\n",
      "\u001b[1m153/153\u001b[0m \u001b[32m━━━━━━━━━━━━━━━━━━━━\u001b[0m\u001b[37m\u001b[0m \u001b[1m2s\u001b[0m 11ms/step - accuracy: 0.6928 - loss: 0.7573\n",
      "Epoch 5/10\n",
      "\u001b[1m153/153\u001b[0m \u001b[32m━━━━━━━━━━━━━━━━━━━━\u001b[0m\u001b[37m\u001b[0m \u001b[1m2s\u001b[0m 11ms/step - accuracy: 0.7745 - loss: 0.5705\n",
      "Epoch 6/10\n",
      "\u001b[1m153/153\u001b[0m \u001b[32m━━━━━━━━━━━━━━━━━━━━\u001b[0m\u001b[37m\u001b[0m \u001b[1m2s\u001b[0m 11ms/step - accuracy: 0.8277 - loss: 0.4464\n",
      "Epoch 7/10\n",
      "\u001b[1m153/153\u001b[0m \u001b[32m━━━━━━━━━━━━━━━━━━━━\u001b[0m\u001b[37m\u001b[0m \u001b[1m2s\u001b[0m 11ms/step - accuracy: 0.8972 - loss: 0.2927\n",
      "Epoch 8/10\n",
      "\u001b[1m153/153\u001b[0m \u001b[32m━━━━━━━━━━━━━━━━━━━━\u001b[0m\u001b[37m\u001b[0m \u001b[1m2s\u001b[0m 11ms/step - accuracy: 0.9304 - loss: 0.2193\n",
      "Epoch 9/10\n",
      "\u001b[1m153/153\u001b[0m \u001b[32m━━━━━━━━━━━━━━━━━━━━\u001b[0m\u001b[37m\u001b[0m \u001b[1m2s\u001b[0m 11ms/step - accuracy: 0.9615 - loss: 0.1240\n",
      "Epoch 10/10\n",
      "\u001b[1m153/153\u001b[0m \u001b[32m━━━━━━━━━━━━━━━━━━━━\u001b[0m\u001b[37m\u001b[0m \u001b[1m2s\u001b[0m 11ms/step - accuracy: 0.9801 - loss: 0.0785\n"
     ]
    }
   ],
   "source": [
    "history = model.fit(X_train, y_train, epochs=10)"
   ]
  },
  {
   "cell_type": "code",
   "execution_count": 25,
   "id": "54861255-81b2-4356-aeed-b9cb8fa8e1db",
   "metadata": {},
   "outputs": [
    {
     "data": {
      "image/png": "[encoded data removed]",
      "text/plain": [
       "<Figure size 640x480 with 1 Axes>"
      ]
     },
     "metadata": {},
     "output_type": "display_data"
    }
   ],
   "source": [
    "plt.plot(history.history['loss'])\n",
    "plt.title('model loss')\n",
    "plt.ylabel('loss')\n",
    "plt.xlabel('epoch')\n",
    "plt.show()"
   ]
  },
  {
   "cell_type": "code",
   "execution_count": 26,
   "id": "33108db8-f57d-48cc-bcbd-044a1179ec97",
   "metadata": {},
   "outputs": [
    {
     "name": "stdout",
     "output_type": "stream",
     "text": [
      "\u001b[1m1/1\u001b[0m \u001b[32m━━━━━━━━━━━━━━━━━━━━\u001b[0m\u001b[37m\u001b[0m \u001b[1m0s\u001b[0m 437ms/step\n"
     ]
    },
    {
     "data": {
      "text/plain": [
       "array([[0.00190451, 0.02648518, 0.00808054, 0.93118054, 0.03234918]],\n",
       "      dtype=float32)"
      ]
     },
     "execution_count": 26,
     "metadata": {},
     "output_type": "execute_result"
    }
   ],
   "source": [
    "np.exp(model.predict(np.array([X_train[0]])))"
   ]
  },
  {
   "cell_type": "code",
   "execution_count": 27,
   "id": "8419c4f5-1eb4-4603-9bd9-e7242148d152",
   "metadata": {},
   "outputs": [
    {
     "data": {
      "text/plain": [
       "np.int64(3)"
      ]
     },
     "execution_count": 27,
     "metadata": {},
     "output_type": "execute_result"
    }
   ],
   "source": [
    "y_train[0]"
   ]
  },
  {
   "cell_type": "code",
   "execution_count": 28,
   "id": "110011ca-7733-40b3-be56-454115cf5b0e",
   "metadata": {},
   "outputs": [
    {
     "name": "stderr",
     "output_type": "stream",
     "text": [
      "2024-12-01 16:46:38.788333: W external/local_xla/xla/tsl/framework/cpu_allocator_impl.cc:83] Allocation of 251160000 exceeds 10% of free system memory.\n",
      "2024-12-01 16:46:38.964843: W external/local_xla/xla/tsl/framework/cpu_allocator_impl.cc:83] Allocation of 251160000 exceeds 10% of free system memory.\n"
     ]
    },
    {
     "name": "stdout",
     "output_type": "stream",
     "text": [
      "\u001b[1m66/66\u001b[0m \u001b[32m━━━━━━━━━━━━━━━━━━━━\u001b[0m\u001b[37m\u001b[0m \u001b[1m2s\u001b[0m 15ms/step - accuracy: 0.6217 - loss: 1.8382\n"
     ]
    },
    {
     "data": {
      "text/plain": [
       "[1.9269875288009644, 0.5996177792549133]"
      ]
     },
     "execution_count": 28,
     "metadata": {},
     "output_type": "execute_result"
    }
   ],
   "source": [
    "model.evaluate(X_test, y_test)"
   ]
  },
  {
   "cell_type": "code",
   "execution_count": 29,
   "id": "a1ec6c02-488c-407f-b9b3-3ef02ea2daa0",
   "metadata": {},
   "outputs": [],
   "source": [
    "from sklearn.metrics import confusion_matrix, ConfusionMatrixDisplay"
   ]
  },
  {
   "cell_type": "code",
   "execution_count": 30,
   "id": "c27010f5-c2e8-4e78-8e8e-3b4b89014525",
   "metadata": {},
   "outputs": [
    {
     "name": "stderr",
     "output_type": "stream",
     "text": [
      "2024-12-01 16:46:41.095390: W external/local_xla/xla/tsl/framework/cpu_allocator_impl.cc:83] Allocation of 251160000 exceeds 10% of free system memory.\n"
     ]
    },
    {
     "name": "stdout",
     "output_type": "stream",
     "text": [
      "\u001b[1m66/66\u001b[0m \u001b[32m━━━━━━━━━━━━━━━━━━━━\u001b[0m\u001b[37m\u001b[0m \u001b[1m1s\u001b[0m 8ms/step\n"
     ]
    }
   ],
   "source": [
    "y_pred = np.exp(model.predict(X_test))"
   ]
  },
  {
   "cell_type": "code",
   "execution_count": 31,
   "id": "77a40279-65c6-428b-9e87-b82d8d959d8a",
   "metadata": {},
   "outputs": [
    {
     "data": {
      "text/plain": [
       "array([[2.0377129e-06, 1.5423866e-02, 4.6671983e-02, 9.3790215e-01,\n",
       "        9.9007243e-12],\n",
       "       [9.9999917e-01, 8.3195471e-07, 3.2794201e-10, 1.8116950e-08,\n",
       "        4.8408756e-14],\n",
       "       [1.2252591e-10, 2.3030753e-01, 1.6607079e-04, 7.6951516e-01,\n",
       "        1.1177554e-05],\n",
       "       ...,\n",
       "       [2.3195268e-09, 3.1154859e-01, 5.5111509e-06, 6.8337840e-01,\n",
       "        5.0674728e-03],\n",
       "       [1.9010056e-03, 1.4691876e-01, 6.0034997e-04, 8.5057038e-01,\n",
       "        9.4457255e-06],\n",
       "       [1.7563229e-03, 8.5815728e-01, 4.0697614e-03, 1.3600905e-01,\n",
       "        7.5988851e-06]], dtype=float32)"
      ]
     },
     "execution_count": 31,
     "metadata": {},
     "output_type": "execute_result"
    }
   ],
   "source": [
    "y_pred"
   ]
  },
  {
   "cell_type": "code",
   "execution_count": 32,
   "id": "12fc709f-a601-4bd7-bc00-c20cfd4860ba",
   "metadata": {},
   "outputs": [],
   "source": [
    "y_pred_max = np.argmax(y_pred, axis=1)"
   ]
  },
  {
   "cell_type": "code",
   "execution_count": 33,
   "id": "79abd782-2256-4995-b4d8-542a40a58919",
   "metadata": {},
   "outputs": [
    {
     "data": {
      "text/plain": [
       "array([3, 0, 3, ..., 3, 3, 1])"
      ]
     },
     "execution_count": 33,
     "metadata": {},
     "output_type": "execute_result"
    }
   ],
   "source": [
    "y_pred_max"
   ]
  },
  {
   "cell_type": "code",
   "execution_count": 34,
   "id": "46ae3472-2881-4bb3-a640-af39a3d8e99b",
   "metadata": {},
   "outputs": [
    {
     "data": {
      "image/png": "[encoded data removed]",
      "text/plain": [
       "<Figure size 640x480 with 2 Axes>"
      ]
     },
     "metadata": {},
     "output_type": "display_data"
    }
   ],
   "source": [
    "matrix = confusion_matrix(y_test, y_pred_max)\n",
    "ConfusionMatrixDisplay(matrix).plot()\n",
    "plt.show()"
   ]
  },
  {
   "cell_type": "code",
   "execution_count": 300,
   "id": "29353ac1-4fdc-4212-9b6a-9a3f5b840d1c",
   "metadata": {},
   "outputs": [],
   "source": [
    "@tf.function(input_signature=[tf.TensorSpec(shape=(None), dtype=tf.string)])\n",
    "def pre_and_pro_process(images_bytes):\n",
    "    def preprocess(image_bytes):\n",
    "        len_img = tf.strings.length(image_bytes)\n",
    "        image_raw = tf.strings.substr(image_bytes, pos=2, len=len_img - 3)\n",
    "        image_raw = tf.io.decode_base64(image_raw)\n",
    "        image = tf.image.decode_image(image_raw, channels=3, expand_animations = False)\n",
    "        image = tf.image.resize(image, [100, 100])\n",
    "        image = image / 255.0\n",
    "\n",
    "        return image\n",
    "        \n",
    "    # preprocess\n",
    "    images = tf.map_fn(preprocess, images_bytes, dtype=tf.float32)\n",
    "\n",
    "    # predict\n",
    "    predictions = tf.math.exp(model(images))\n",
    "\n",
    "    # postprocess\n",
    "    def map_to_dict(prediction):\n",
    "        emotions = ['Surprise', 'Sad', 'Happy', 'Neutral', 'Angry']\n",
    "        prediction_strings = tf.strings.as_string(prediction)\n",
    "        pairs = tf.stack([emotions, prediction_strings], axis=1)\n",
    "\n",
    "        def join_pair(pair):\n",
    "            return tf.strings.join([pair[0], \": \", pair[1]])  # Convert \"class1: value\"\n",
    "\n",
    "        joined_pairs = tf.map_fn(join_pair, pairs, dtype=tf.string)\n",
    "\n",
    "        result = tf.strings.join([\"{\",tf.strings.reduce_join(joined_pairs, separator=\", \"), \"}\"])\n",
    "        return result\n",
    "        \n",
    "    formatted_predictions = tf.map_fn(map_to_dict, predictions, dtype=tf.string)\n",
    "    \n",
    "    return formatted_predictions      "
   ]
  },
  {
   "cell_type": "code",
   "execution_count": 48,
   "id": "def3bdd3-130a-4a44-890c-aa2b131b72d0",
   "metadata": {},
   "outputs": [],
   "source": [
    "import json\n",
    "import base64"
   ]
  },
  {
   "cell_type": "code",
   "execution_count": 301,
   "id": "fc9556f4-c017-4265-a659-de1644454ae5",
   "metadata": {},
   "outputs": [
    {
     "name": "stdout",
     "output_type": "stream",
     "text": [
      "tf.Tensor([b'{Surprise: 0.000000, Sad: 0.000539, Happy: 0.915597, Neutral: 0.000001, Angry: 0.083864}'], shape=(1,), dtype=string)\n"
     ]
    }
   ],
   "source": [
    "with open(\"happy.jpg\", \"rb\") as image_file:\n",
    "    a = base64.urlsafe_b64encode(image_file.read())\n",
    "    a = tf.constant([str(a)])\n",
    "\n",
    "print(pre_and_pro_process(a))\n",
    "\n",
    "with open(\"happy.jpg\", \"rb\") as image_file:\n",
    "    r = str(base64.urlsafe_b64encode(image_file.read()))\n",
    "    request = json.dumps({\"instances\": [r]})\n",
    "    #print(request)\n",
    "\n",
    "# =']\n",
    "# [b'_9"
   ]
  },
  {
   "cell_type": "code",
   "execution_count": 302,
   "id": "19c785ff-7222-4b94-9a23-42cce91f2ce4",
   "metadata": {},
   "outputs": [
    {
     "name": "stdout",
     "output_type": "stream",
     "text": [
      "INFO:tensorflow:Assets written to: model_store_tf/1/assets\n"
     ]
    },
    {
     "name": "stderr",
     "output_type": "stream",
     "text": [
      "INFO:tensorflow:Assets written to: model_store_tf/1/assets\n"
     ]
    },
    {
     "name": "stdout",
     "output_type": "stream",
     "text": [
      "Saved artifact at 'model_store_tf/1/'. The following endpoints are available:\n",
      "\n",
      "* Endpoint 'serve'\n",
      "  images_bytes (POSITIONAL_OR_KEYWORD): TensorSpec(shape=<unknown>, dtype=tf.string, name=None)\n",
      "Output Type:\n",
      "  TensorSpec(shape=(None,), dtype=tf.string, name=None)\n",
      "Captures:\n",
      "  139728768990576: TensorSpec(shape=(), dtype=tf.resource, name=None)\n",
      "  139728768983184: TensorSpec(shape=(), dtype=tf.resource, name=None)\n",
      "  139728767457008: TensorSpec(shape=(), dtype=tf.resource, name=None)\n",
      "  139728767451200: TensorSpec(shape=(), dtype=tf.resource, name=None)\n",
      "  139728767460704: TensorSpec(shape=(), dtype=tf.resource, name=None)\n",
      "  139728767465632: TensorSpec(shape=(), dtype=tf.resource, name=None)\n",
      "  139728767465984: TensorSpec(shape=(), dtype=tf.resource, name=None)\n",
      "  139728767649216: TensorSpec(shape=(), dtype=tf.resource, name=None)\n"
     ]
    }
   ],
   "source": [
    "#tf.saved_model.save(\n",
    "    #model,\n",
    "    #\"model_store_tf/1/\",\n",
    "    #signatures={\"serving_default\": pre_and_pro_process}\n",
    "#)\n",
    "\n",
    "export_archive = ExportArchive()\n",
    "export_archive.track(model)\n",
    "export_archive.add_endpoint(name=\"serve\", fn=pre_and_pro_process)\n",
    "export_archive.write_out(\"model_store_tf/1/\")"
   ]
  },
  {
   "cell_type": "code",
   "execution_count": 77,
   "id": "7dd2132d-ea55-412d-ae9d-93abf6996d02",
   "metadata": {},
   "outputs": [],
   "source": [
    "#model.export(\"model_store_tf/1/\")"
   ]
  },
  {
   "cell_type": "code",
   "execution_count": 112,
   "id": "79ae5869-5431-4624-a29f-d5a661e94f88",
   "metadata": {},
   "outputs": [
    {
     "data": {
      "text/plain": [
       "'/home/adam/Bachelor/model_store_tf'"
      ]
     },
     "execution_count": 112,
     "metadata": {},
     "output_type": "execute_result"
    }
   ],
   "source": [
    "import os\n",
    "os.path.abspath(\"model_store_tf\")"
   ]
  },
  {
   "cell_type": "code",
   "execution_count": 266,
   "id": "34b651e4-9c5a-4040-86df-457b548cf286",
   "metadata": {},
   "outputs": [
    {
     "name": "stdout",
     "output_type": "stream",
     "text": [
      "{\"instances\": [\"b''\"]}\n"
     ]
    }
   ],
   "source": []
  },
  {
   "cell_type": "code",
   "execution_count": null,
   "id": "223b435b-e660-4200-9d5f-6d0eb842daad",
   "metadata": {},
   "outputs": [],
   "source": []
  }
 ],
 "metadata": {
  "kernelspec": {
   "display_name": "Python 3 (ipykernel)",
   "language": "python",
   "name": "python3"
  },
  "language_info": {
   "codemirror_mode": {
    "name": "ipython",
    "version": 3
   },
   "file_extension": ".py",
   "mimetype": "text/x-python",
   "name": "python",
   "nbconvert_exporter": "python",
   "pygments_lexer": "ipython3",
   "version": "3.10.13"
  }
 },
 "nbformat": 4,
 "nbformat_minor": 5
}
