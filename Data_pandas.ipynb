{
 "cells": [
  {
   "cell_type": "code",
   "execution_count": 1,
   "id": "7d88ae1c-deab-45b9-8c6c-f5a616256c05",
   "metadata": {},
   "outputs": [],
   "source": [
    "import os\n",
    "import pandas as pd"
   ]
  },
  {
   "cell_type": "code",
   "execution_count": 2,
   "id": "cc478520-4f05-4052-9928-ad7a8c15c419",
   "metadata": {},
   "outputs": [],
   "source": [
    "root_dir = '/home/adam/Bachelor/emotions'"
   ]
  },
  {
   "cell_type": "code",
   "execution_count": 3,
   "id": "9b394588-2d1a-41bb-a9a9-f4da10786646",
   "metadata": {},
   "outputs": [],
   "source": [
    "image_paths = []\n",
    "labels = []"
   ]
  },
  {
   "cell_type": "code",
   "execution_count": 4,
   "id": "ba979b53-beff-4924-a3ff-1455d8b2dcdf",
   "metadata": {},
   "outputs": [],
   "source": [
    "for root, dirs, files in os.walk(root_dir):\n",
    "    for file in files:\n",
    "        image_path = os.path.join(root, file)\n",
    "        label = os.path.basename(root)\n",
    "        image_paths.append(image_path)\n",
    "        labels.append(label)"
   ]
  },
  {
   "cell_type": "code",
   "execution_count": 6,
   "id": "84c058c6-64ce-4200-8d56-3c85d1a9b4f7",
   "metadata": {},
   "outputs": [],
   "source": [
    "df = pd.DataFrame({\n",
    "    'image_path': image_paths,\n",
    "    'label': labels\n",
    "})"
   ]
  },
  {
   "cell_type": "code",
   "execution_count": 8,
   "id": "e9353f7d-56ce-494a-b88e-85da9aa6efd0",
   "metadata": {},
   "outputs": [
    {
     "data": {
      "text/html": [
       "<div>\n",
       "<style scoped>\n",
       "    .dataframe tbody tr th:only-of-type {\n",
       "        vertical-align: middle;\n",
       "    }\n",
       "\n",
       "    .dataframe tbody tr th {\n",
       "        vertical-align: top;\n",
       "    }\n",
       "\n",
       "    .dataframe thead th {\n",
       "        text-align: right;\n",
       "    }\n",
       "</style>\n",
       "<table border=\"1\" class=\"dataframe\">\n",
       "  <thead>\n",
       "    <tr style=\"text-align: right;\">\n",
       "      <th></th>\n",
       "      <th>image_path</th>\n",
       "      <th>label</th>\n",
       "    </tr>\n",
       "  </thead>\n",
       "  <tbody>\n",
       "    <tr>\n",
       "      <th>0</th>\n",
       "      <td>/home/adam/Bachelor/emotions/sad/image0029680.jpg</td>\n",
       "      <td>sad</td>\n",
       "    </tr>\n",
       "    <tr>\n",
       "      <th>1</th>\n",
       "      <td>/home/adam/Bachelor/emotions/sad/image0024066.jpg</td>\n",
       "      <td>sad</td>\n",
       "    </tr>\n",
       "    <tr>\n",
       "      <th>2</th>\n",
       "      <td>/home/adam/Bachelor/emotions/sad/image0009807.jpg</td>\n",
       "      <td>sad</td>\n",
       "    </tr>\n",
       "    <tr>\n",
       "      <th>3</th>\n",
       "      <td>/home/adam/Bachelor/emotions/sad/image0018272.jpg</td>\n",
       "      <td>sad</td>\n",
       "    </tr>\n",
       "    <tr>\n",
       "      <th>4</th>\n",
       "      <td>/home/adam/Bachelor/emotions/sad/image0026864.jpg</td>\n",
       "      <td>sad</td>\n",
       "    </tr>\n",
       "  </tbody>\n",
       "</table>\n",
       "</div>"
      ],
      "text/plain": [
       "                                          image_path label\n",
       "0  /home/adam/Bachelor/emotions/sad/image0029680.jpg   sad\n",
       "1  /home/adam/Bachelor/emotions/sad/image0024066.jpg   sad\n",
       "2  /home/adam/Bachelor/emotions/sad/image0009807.jpg   sad\n",
       "3  /home/adam/Bachelor/emotions/sad/image0018272.jpg   sad\n",
       "4  /home/adam/Bachelor/emotions/sad/image0026864.jpg   sad"
      ]
     },
     "execution_count": 8,
     "metadata": {},
     "output_type": "execute_result"
    }
   ],
   "source": [
    "df.head()"
   ]
  },
  {
   "cell_type": "code",
   "execution_count": 9,
   "id": "4f5e3838-5683-4b6c-a0cc-651c1fa5b1c1",
   "metadata": {},
   "outputs": [],
   "source": [
    "df.to_csv(\"emotions.csv\", index=False)"
   ]
  }
 ],
 "metadata": {
  "kernelspec": {
   "display_name": "Python 3 (ipykernel)",
   "language": "python",
   "name": "python3"
  },
  "language_info": {
   "codemirror_mode": {
    "name": "ipython",
    "version": 3
   },
   "file_extension": ".py",
   "mimetype": "text/x-python",
   "name": "python",
   "nbconvert_exporter": "python",
   "pygments_lexer": "ipython3",
   "version": "3.10.13"
  }
 },
 "nbformat": 4,
 "nbformat_minor": 5
}
